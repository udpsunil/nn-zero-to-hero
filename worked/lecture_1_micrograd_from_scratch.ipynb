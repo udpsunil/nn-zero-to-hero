{
 "cells": [
  {
   "cell_type": "code",
   "execution_count": 2,
   "metadata": {},
   "outputs": [],
   "source": [
    "import math\n",
    "import numpy as np\n",
    "import matplotlib.pyplot as plt\n",
    "%matplotlib inline\n"
   ]
  },
  {
   "attachments": {},
   "cell_type": "markdown",
   "metadata": {},
   "source": [
    "Sample function to understand the derivatives and get intuition about the derivatives.\n",
    "This function can take a lot of x values and produce y values, this plots a parabola.\n",
    "This parabola has a derivative. Instead of using symbolic approach as we did in our school days, we have to understand what derivative tells about the function.\n",
    "Intuitively, derivative tells about sensitivity of the input to the overall function. i.e. a change in output due to a slight bump in the input value w.r.t to the input value. i.e. slope of the function at that point of input.\n"
   ]
  },
  {
   "cell_type": "code",
   "execution_count": 3,
   "metadata": {},
   "outputs": [],
   "source": [
    "def f(x):\n",
    "    return 3*x**2 - 4*x + 5\n"
   ]
  },
  {
   "cell_type": "code",
   "execution_count": 4,
   "metadata": {},
   "outputs": [
    {
     "data": {
      "text/plain": [
       "20.0"
      ]
     },
     "execution_count": 4,
     "metadata": {},
     "output_type": "execute_result"
    }
   ],
   "source": [
    "f(3.0)\n"
   ]
  },
  {
   "cell_type": "code",
   "execution_count": 5,
   "metadata": {},
   "outputs": [
    {
     "data": {
      "text/plain": [
       "[<matplotlib.lines.Line2D at 0x7f5b40ee9790>]"
      ]
     },
     "execution_count": 5,
     "metadata": {},
     "output_type": "execute_result"
    },
    {
     "data": {
      "image/png": "[encoded data removed]",
      "text/plain": [
       "<Figure size 432x288 with 1 Axes>"
      ]
     },
     "metadata": {
      "needs_background": "light"
     },
     "output_type": "display_data"
    }
   ],
   "source": [
    "xs = np.arange(-5, 5, 0.25)\n",
    "ys = f(xs)\n",
    "plt.plot(xs, ys)\n"
   ]
  },
  {
   "cell_type": "code",
   "execution_count": 6,
   "metadata": {},
   "outputs": [
    {
     "data": {
      "text/plain": [
       "2.999378523327323e-06"
      ]
     },
     "execution_count": 6,
     "metadata": {},
     "output_type": "execute_result"
    }
   ],
   "source": [
    "h = 0.000001\n",
    "x = 2/3\n",
    "(f(x+h) - f(x)) / h\n"
   ]
  },
  {
   "cell_type": "code",
   "execution_count": 7,
   "metadata": {},
   "outputs": [
    {
     "name": "stdout",
     "output_type": "stream",
     "text": [
      "4.0\n"
     ]
    }
   ],
   "source": [
    "# more complex example\n",
    "a = 2.0\n",
    "b = -3.0\n",
    "c = 10.0\n",
    "d = a * b + c\n",
    "print(d)\n"
   ]
  },
  {
   "cell_type": "code",
   "execution_count": 8,
   "metadata": {},
   "outputs": [
    {
     "name": "stdout",
     "output_type": "stream",
     "text": [
      "d1 4.0\n",
      "d2 3.999699999999999\n",
      "slope -3.000000000010772\n",
      "d1 4.0\n",
      "d2 4.0002\n",
      "slope 2.0000000000042206\n",
      "d1 4.0\n",
      "d2 4.0001\n",
      "slope 0.9999999999976694\n"
     ]
    }
   ],
   "source": [
    "h = 0.0001\n",
    "\n",
    "# inputs\n",
    "a = 2.0\n",
    "b = -3.0\n",
    "c = 10.0\n",
    "\n",
    "d1 = a * b + c\n",
    "a += h\n",
    "d2 = a * b + c\n",
    "print('d1', d1)\n",
    "print('d2', d2)\n",
    "print('slope', (d2-d1)/h)\n",
    "\n",
    "a = 2.0\n",
    "b = -3.0\n",
    "c = 10.0\n",
    "\n",
    "d1 = a * b + c\n",
    "b += h\n",
    "d2 = a * b + c\n",
    "print('d1', d1)\n",
    "print('d2', d2)\n",
    "print('slope', (d2-d1)/h)\n",
    "\n",
    "a = 2.0\n",
    "b = -3.0\n",
    "c = 10.0\n",
    "d1 = a * b + c\n",
    "c += h\n",
    "d2 = a * b + c\n",
    "print('d1', d1)\n",
    "print('d2', d2)\n",
    "print('slope', (d2-d1)/h)\n"
   ]
  },
  {
   "cell_type": "code",
   "execution_count": 67,
   "metadata": {},
   "outputs": [
    {
     "data": {
      "text/plain": [
       "Value(data=-8.0)"
      ]
     },
     "execution_count": 67,
     "metadata": {},
     "output_type": "execute_result"
    }
   ],
   "source": [
    "class Value:\n",
    "\n",
    "    def __init__(self, data, _children=(), _op=(), label='') -> None:\n",
    "        self.data = data\n",
    "        self._prev = set(_children)\n",
    "        self._backward = lambda: None\n",
    "        self._op = _op\n",
    "        self.label = label\n",
    "        self.grad = 0\n",
    "\n",
    "    def __repr__(self) -> str:\n",
    "        return f\"Value(data={self.data})\"\n",
    "\n",
    "    def __add__(self, other):\n",
    "        out = Value(self.data + other.data, (self, other), \"+\")\n",
    "        def _backward():\n",
    "            self.grad = 1.0 * out.grad\n",
    "            other.grad = 1.0 * out.grad\n",
    "        out._backward = _backward\n",
    "        return out\n",
    "\n",
    "    def __sub__(self, other):\n",
    "        return Value(self.data - other.data, (self, other), \"-\")\n",
    "\n",
    "    def __mul__(self, other):\n",
    "        out = Value(self.data * other.data, (self, other), \"*\")\n",
    "        def _backward():\n",
    "            self.grad = other.data * out.grad\n",
    "            out.grad = self.data * out.grad\n",
    "        out._backward = _backward\n",
    "        return out\n",
    "\n",
    "    def __div__(self, other):\n",
    "        return Value(self.data / other.data, (self, other), \"/\")\n",
    "\n",
    "    def tanh(self):\n",
    "        x = self.data\n",
    "        t = (math.exp(2*x) - 1) / (math.exp(2*x) + 1)\n",
    "        out = Value(t, (self,), \"tanh\")\n",
    "        def _backward():\n",
    "            self.grad = (1 - t**2) * out.grad\n",
    "        out._backward = _backward\n",
    "        return out\n",
    "    \n",
    "    def backward(self):\n",
    "        topo = []\n",
    "        visited = set()\n",
    "        def build_topo(v):\n",
    "            if v not in visited:\n",
    "                for child in v._prev:\n",
    "                    build_topo(child)\n",
    "                topo.append(v)\n",
    "        build_topo(self)\n",
    "        self.grad = 1.0\n",
    "        for node in reversed(topo):\n",
    "            node._backward()\n",
    "\n",
    "\n",
    "a = Value(2.0, label='a')\n",
    "b = Value(-3.0, label='b')\n",
    "c = Value(10.0, label='c')\n",
    "e = a*b\n",
    "e.label = 'e'\n",
    "d = e+c\n",
    "d.label = 'd'\n",
    "f = Value(-2.0, label='f')\n",
    "L = d * f\n",
    "L.label = 'L'\n",
    "L\n"
   ]
  },
  {
   "cell_type": "code",
   "execution_count": 10,
   "metadata": {},
   "outputs": [
    {
     "name": "stdout",
     "output_type": "stream",
     "text": [
      "{Value(data=-6.0), Value(data=10.0)}\n",
      "+\n",
      "d\n"
     ]
    }
   ],
   "source": [
    "print(d._prev)\n",
    "print(d._op)\n",
    "print(d.label)\n"
   ]
  },
  {
   "cell_type": "code",
   "execution_count": 11,
   "metadata": {},
   "outputs": [],
   "source": [
    "# scary code that can be used to visualize the Value => #TODO explore this later\n",
    "from graphviz import Digraph\n",
    "\n",
    "\n",
    "def trace(root):\n",
    "    # builds a set of all nodes and edges in a graph\n",
    "    nodes, edges = set(), set()\n",
    "\n",
    "    def build(v):\n",
    "        if v not in nodes:\n",
    "            nodes.add(v)\n",
    "            for child in v._prev:\n",
    "                edges.add((child, v))\n",
    "                build(child)\n",
    "    build(root)\n",
    "    return nodes, edges\n",
    "\n",
    "\n",
    "def draw_dot(root):  # sourcery skip: remove-unnecessary-cast\n",
    "    dot = Digraph(format='svg', graph_attr={\n",
    "                  'rankdir': 'LR'})  # LR = left to right\n",
    "    nodes, edges = trace(root)\n",
    "    for n in nodes:\n",
    "        uid = str(id(n))\n",
    "        # for any value in the graph, create a rectangular ('record') node for it\n",
    "        dot.node(name=uid, label=\"{%s|data:%.4f|grad:%.4f}\" % (\n",
    "            n.label, n.data, n.grad,), shape='record')\n",
    "        if n._op:\n",
    "            # if this value is a result of some operation, create an op node for it\n",
    "            dot.node(name=uid + n._op, label=n._op)\n",
    "            # and connect this node to it\n",
    "            dot.edge(uid + n._op, uid)\n",
    "    for n1, n2 in edges:\n",
    "        # connect n1 to the op node of n2\n",
    "        dot.edge(str(id(n1)), str(id(n2)) + n2._op)\n",
    "    return dot\n"
   ]
  },
  {
   "cell_type": "code",
   "execution_count": 69,
   "metadata": {},
   "outputs": [
    {
     "data": {
      "image/svg+xml": "<?xml version=\"1.0\" encoding=\"UTF-8\" standalone=\"no\"?>\n<!DOCTYPE svg PUBLIC \"-//W3C//DTD SVG 1.1//EN\"\n \"http://www.w3.org/Graphics/SVG/1.1/DTD/svg11.dtd\">\n<!-- Generated by graphviz version 2.43.0 (0)\n -->\n<!-- Title: %3 Pages: 1 -->\n<svg width=\"1339pt\" height=\"128pt\"\n viewBox=\"0.00 0.00 1339.00 128.00\" xmlns=\"http://www.w3.org/2000/svg\" xmlns:xlink=\"http://www.w3.org/1999/xlink\">\n<g id=\"graph0\" class=\"graph\" transform=\"scale(1 1) rotate(0) translate(4 124)\">\n<title>%3</title>\n<polygon fill=\"white\" stroke=\"transparent\" points=\"-4,4 -4,-124 1335,-124 1335,4 -4,4\"/>\n<!-- 140030101426336 -->\n<g id=\"node1\" class=\"node\">\n<title>140030101426336</title>\n<polygon fill=\"none\" stroke=\"black\" points=\"733.5,-82.5 733.5,-118.5 966.5,-118.5 966.5,-82.5 733.5,-82.5\"/>\n<text text-anchor=\"middle\" x=\"744.5\" y=\"-96.8\" font-family=\"Times,serif\" font-size=\"14.00\">f</text>\n<polyline fill=\"none\" stroke=\"black\" points=\"755.5,-82.5 755.5,-118.5 \"/>\n<text text-anchor=\"middle\" x=\"809\" y=\"-96.8\" font-family=\"Times,serif\" font-size=\"14.00\">data:&#45;2.0000</text>\n<polyline fill=\"none\" stroke=\"black\" points=\"862.5,-82.5 862.5,-118.5 \"/>\n<text text-anchor=\"middle\" x=\"914.5\" y=\"-96.8\" font-family=\"Times,serif\" font-size=\"14.00\">grad:0.0000</text>\n</g>\n<!-- 140030101426480* -->\n<g id=\"node5\" class=\"node\">\n<title>140030101426480*</title>\n<ellipse fill=\"none\" stroke=\"black\" cx=\"1031\" cy=\"-72.5\" rx=\"27\" ry=\"18\"/>\n<text text-anchor=\"middle\" x=\"1031\" y=\"-68.8\" font-family=\"Times,serif\" font-size=\"14.00\">*</text>\n</g>\n<!-- 140030101426336&#45;&gt;140030101426480* -->\n<g id=\"edge7\" class=\"edge\">\n<title>140030101426336&#45;&gt;140030101426480*</title>\n<path fill=\"none\" stroke=\"black\" d=\"M966.13,-82.49C976.27,-80.91 985.92,-79.4 994.51,-78.05\"/>\n<polygon fill=\"black\" stroke=\"black\" points=\"995.09,-81.5 1004.43,-76.5 994.01,-74.59 995.09,-81.5\"/>\n</g>\n<!-- 140030101831392 -->\n<g id=\"node2\" class=\"node\">\n<title>140030101831392</title>\n<polygon fill=\"none\" stroke=\"black\" points=\"364.5,-55.5 364.5,-91.5 604.5,-91.5 604.5,-55.5 364.5,-55.5\"/>\n<text text-anchor=\"middle\" x=\"377\" y=\"-69.8\" font-family=\"Times,serif\" font-size=\"14.00\">e</text>\n<polyline fill=\"none\" stroke=\"black\" points=\"389.5,-55.5 389.5,-91.5 \"/>\n<text text-anchor=\"middle\" x=\"443\" y=\"-69.8\" font-family=\"Times,serif\" font-size=\"14.00\">data:&#45;6.0000</text>\n<polyline fill=\"none\" stroke=\"black\" points=\"496.5,-55.5 496.5,-91.5 \"/>\n<text text-anchor=\"middle\" x=\"550.5\" y=\"-69.8\" font-family=\"Times,serif\" font-size=\"14.00\">grad:&#45;4.0000</text>\n</g>\n<!-- 140030101831632+ -->\n<g id=\"node10\" class=\"node\">\n<title>140030101831632+</title>\n<ellipse fill=\"none\" stroke=\"black\" cx=\"669\" cy=\"-45.5\" rx=\"27\" ry=\"18\"/>\n<text text-anchor=\"middle\" x=\"669\" y=\"-41.8\" font-family=\"Times,serif\" font-size=\"14.00\">+</text>\n</g>\n<!-- 140030101831392&#45;&gt;140030101831632+ -->\n<g id=\"edge8\" class=\"edge\">\n<title>140030101831392&#45;&gt;140030101831632+</title>\n<path fill=\"none\" stroke=\"black\" d=\"M602.89,-55.49C613.53,-53.86 623.65,-52.3 632.61,-50.93\"/>\n<polygon fill=\"black\" stroke=\"black\" points=\"633.2,-54.38 642.55,-49.4 632.14,-47.46 633.2,-54.38\"/>\n</g>\n<!-- 140030101831392* -->\n<g id=\"node3\" class=\"node\">\n<title>140030101831392*</title>\n<ellipse fill=\"none\" stroke=\"black\" cx=\"300\" cy=\"-73.5\" rx=\"27\" ry=\"18\"/>\n<text text-anchor=\"middle\" x=\"300\" y=\"-69.8\" font-family=\"Times,serif\" font-size=\"14.00\">*</text>\n</g>\n<!-- 140030101831392*&#45;&gt;140030101831392 -->\n<g id=\"edge1\" class=\"edge\">\n<title>140030101831392*&#45;&gt;140030101831392</title>\n<path fill=\"none\" stroke=\"black\" d=\"M327.15,-73.5C334.98,-73.5 344.16,-73.5 354.06,-73.5\"/>\n<polygon fill=\"black\" stroke=\"black\" points=\"354.19,-77 364.19,-73.5 354.19,-70 354.19,-77\"/>\n</g>\n<!-- 140030101426480 -->\n<g id=\"node4\" class=\"node\">\n<title>140030101426480</title>\n<polygon fill=\"none\" stroke=\"black\" points=\"1094,-54.5 1094,-90.5 1331,-90.5 1331,-54.5 1094,-54.5\"/>\n<text text-anchor=\"middle\" x=\"1107\" y=\"-68.8\" font-family=\"Times,serif\" font-size=\"14.00\">L</text>\n<polyline fill=\"none\" stroke=\"black\" points=\"1120,-54.5 1120,-90.5 \"/>\n<text text-anchor=\"middle\" x=\"1173.5\" y=\"-68.8\" font-family=\"Times,serif\" font-size=\"14.00\">data:&#45;8.0000</text>\n<polyline fill=\"none\" stroke=\"black\" points=\"1227,-54.5 1227,-90.5 \"/>\n<text text-anchor=\"middle\" x=\"1279\" y=\"-68.8\" font-family=\"Times,serif\" font-size=\"14.00\">grad:4.0000</text>\n</g>\n<!-- 140030101426480*&#45;&gt;140030101426480 -->\n<g id=\"edge2\" class=\"edge\">\n<title>140030101426480*&#45;&gt;140030101426480</title>\n<path fill=\"none\" stroke=\"black\" d=\"M1058.1,-72.5C1065.61,-72.5 1074.33,-72.5 1083.75,-72.5\"/>\n<polygon fill=\"black\" stroke=\"black\" points=\"1083.78,-76 1093.78,-72.5 1083.78,-69 1083.78,-76\"/>\n</g>\n<!-- 140030101830480 -->\n<g id=\"node6\" class=\"node\">\n<title>140030101830480</title>\n<polygon fill=\"none\" stroke=\"black\" points=\"3,-83.5 3,-119.5 234,-119.5 234,-83.5 3,-83.5\"/>\n<text text-anchor=\"middle\" x=\"15.5\" y=\"-97.8\" font-family=\"Times,serif\" font-size=\"14.00\">a</text>\n<polyline fill=\"none\" stroke=\"black\" points=\"28,-83.5 28,-119.5 \"/>\n<text text-anchor=\"middle\" x=\"79\" y=\"-97.8\" font-family=\"Times,serif\" font-size=\"14.00\">data:2.0000</text>\n<polyline fill=\"none\" stroke=\"black\" points=\"130,-83.5 130,-119.5 \"/>\n<text text-anchor=\"middle\" x=\"182\" y=\"-97.8\" font-family=\"Times,serif\" font-size=\"14.00\">grad:6.0000</text>\n</g>\n<!-- 140030101830480&#45;&gt;140030101831392* -->\n<g id=\"edge9\" class=\"edge\">\n<title>140030101830480&#45;&gt;140030101831392*</title>\n<path fill=\"none\" stroke=\"black\" d=\"M234.2,-83.61C244.76,-81.96 254.83,-80.39 263.74,-79\"/>\n<polygon fill=\"black\" stroke=\"black\" points=\"264.3,-82.46 273.64,-77.46 263.22,-75.54 264.3,-82.46\"/>\n</g>\n<!-- 140030101830528 -->\n<g id=\"node7\" class=\"node\">\n<title>140030101830528</title>\n<polygon fill=\"none\" stroke=\"black\" points=\"363,-0.5 363,-36.5 606,-36.5 606,-0.5 363,-0.5\"/>\n<text text-anchor=\"middle\" x=\"375\" y=\"-14.8\" font-family=\"Times,serif\" font-size=\"14.00\">c</text>\n<polyline fill=\"none\" stroke=\"black\" points=\"387,-0.5 387,-36.5 \"/>\n<text text-anchor=\"middle\" x=\"442.5\" y=\"-14.8\" font-family=\"Times,serif\" font-size=\"14.00\">data:10.0000</text>\n<polyline fill=\"none\" stroke=\"black\" points=\"498,-0.5 498,-36.5 \"/>\n<text text-anchor=\"middle\" x=\"552\" y=\"-14.8\" font-family=\"Times,serif\" font-size=\"14.00\">grad:&#45;2.0000</text>\n</g>\n<!-- 140030101830528&#45;&gt;140030101831632+ -->\n<g id=\"edge6\" class=\"edge\">\n<title>140030101830528&#45;&gt;140030101831632+</title>\n<path fill=\"none\" stroke=\"black\" d=\"M606.21,-36.36C615.62,-37.75 624.55,-39.07 632.56,-40.26\"/>\n<polygon fill=\"black\" stroke=\"black\" points=\"632.1,-43.73 642.5,-41.73 633.12,-36.8 632.1,-43.73\"/>\n</g>\n<!-- 140030101830576 -->\n<g id=\"node8\" class=\"node\">\n<title>140030101830576</title>\n<polygon fill=\"none\" stroke=\"black\" points=\"0,-28.5 0,-64.5 237,-64.5 237,-28.5 0,-28.5\"/>\n<text text-anchor=\"middle\" x=\"13\" y=\"-42.8\" font-family=\"Times,serif\" font-size=\"14.00\">b</text>\n<polyline fill=\"none\" stroke=\"black\" points=\"26,-28.5 26,-64.5 \"/>\n<text text-anchor=\"middle\" x=\"79.5\" y=\"-42.8\" font-family=\"Times,serif\" font-size=\"14.00\">data:&#45;3.0000</text>\n<polyline fill=\"none\" stroke=\"black\" points=\"133,-28.5 133,-64.5 \"/>\n<text text-anchor=\"middle\" x=\"185\" y=\"-42.8\" font-family=\"Times,serif\" font-size=\"14.00\">grad:0.0000</text>\n</g>\n<!-- 140030101830576&#45;&gt;140030101831392* -->\n<g id=\"edge4\" class=\"edge\">\n<title>140030101830576&#45;&gt;140030101831392*</title>\n<path fill=\"none\" stroke=\"black\" d=\"M237.23,-64.21C246.6,-65.62 255.52,-66.96 263.52,-68.16\"/>\n<polygon fill=\"black\" stroke=\"black\" points=\"263.06,-71.63 273.47,-69.66 264.1,-64.71 263.06,-71.63\"/>\n</g>\n<!-- 140030101831632 -->\n<g id=\"node9\" class=\"node\">\n<title>140030101831632</title>\n<polygon fill=\"none\" stroke=\"black\" points=\"732,-27.5 732,-63.5 968,-63.5 968,-27.5 732,-27.5\"/>\n<text text-anchor=\"middle\" x=\"745\" y=\"-41.8\" font-family=\"Times,serif\" font-size=\"14.00\">d</text>\n<polyline fill=\"none\" stroke=\"black\" points=\"758,-27.5 758,-63.5 \"/>\n<text text-anchor=\"middle\" x=\"809\" y=\"-41.8\" font-family=\"Times,serif\" font-size=\"14.00\">data:4.0000</text>\n<polyline fill=\"none\" stroke=\"black\" points=\"860,-27.5 860,-63.5 \"/>\n<text text-anchor=\"middle\" x=\"914\" y=\"-41.8\" font-family=\"Times,serif\" font-size=\"14.00\">grad:&#45;2.0000</text>\n</g>\n<!-- 140030101831632&#45;&gt;140030101426480* -->\n<g id=\"edge5\" class=\"edge\">\n<title>140030101831632&#45;&gt;140030101426480*</title>\n<path fill=\"none\" stroke=\"black\" d=\"M968.15,-63.17C977.53,-64.58 986.46,-65.93 994.46,-67.14\"/>\n<polygon fill=\"black\" stroke=\"black\" points=\"994.01,-70.61 1004.42,-68.64 995.06,-63.69 994.01,-70.61\"/>\n</g>\n<!-- 140030101831632+&#45;&gt;140030101831632 -->\n<g id=\"edge3\" class=\"edge\">\n<title>140030101831632+&#45;&gt;140030101831632</title>\n<path fill=\"none\" stroke=\"black\" d=\"M696.03,-45.5C703.58,-45.5 712.38,-45.5 721.87,-45.5\"/>\n<polygon fill=\"black\" stroke=\"black\" points=\"721.99,-49 731.99,-45.5 721.99,-42 721.99,-49\"/>\n</g>\n</g>\n</svg>\n",
      "text/plain": [
       "<graphviz.graphs.Digraph at 0x7f5b3c029400>"
      ]
     },
     "execution_count": 69,
     "metadata": {},
     "output_type": "execute_result"
    }
   ],
   "source": [
    "draw_dot(L)\n",
    "L.backward()\n",
    "draw_dot(L)"
   ]
  },
  {
   "cell_type": "code",
   "execution_count": 29,
   "metadata": {},
   "outputs": [
    {
     "name": "stdout",
     "output_type": "stream",
     "text": [
      "-7.286496\n"
     ]
    }
   ],
   "source": [
    "# nudging data to influence final value through gradient.\n",
    "a.data += 0.01 * a.grad\n",
    "b.data += 0.01 * b.grad\n",
    "c.data += 0.01 * c.grad\n",
    "f.data += 0.01 * f.grad\n",
    "\n",
    "e = a * b\n",
    "d = e + c\n",
    "L = d * f\n",
    "\n",
    "print(L.data)\n"
   ]
  },
  {
   "attachments": {},
   "cell_type": "markdown",
   "metadata": {},
   "source": [
    "Chain rule in calculus. Study this rule to understand backpropagation logic."
   ]
  },
  {
   "cell_type": "code",
   "execution_count": 27,
   "metadata": {},
   "outputs": [],
   "source": [
    "f.grad = 4.0\n",
    "d.grad = -2.0\n",
    "c.grad = -2.0\n",
    "e.grad = -2.0\n",
    "b.grad = -4.0\n",
    "a.grad = 6.0\n"
   ]
  },
  {
   "cell_type": "code",
   "execution_count": 17,
   "metadata": {},
   "outputs": [],
   "source": [
    "L.grad = 1.0\n"
   ]
  },
  {
   "cell_type": "code",
   "execution_count": 22,
   "metadata": {},
   "outputs": [
    {
     "name": "stdout",
     "output_type": "stream",
     "text": [
      "-2.000000000000668\n"
     ]
    }
   ],
   "source": [
    "def lol():\n",
    "    h = 0.001\n",
    "    a = Value(2.0, label='a')\n",
    "    b = Value(-3.0, label='b')\n",
    "    c = Value(10.0, label='c')\n",
    "    e = a*b\n",
    "    e.label = 'e'\n",
    "    d = e + c\n",
    "    d.label = 'd'\n",
    "    f = Value(-2.0, label='f')\n",
    "    L = d*f\n",
    "    L.label = 'L'\n",
    "    L1 = L.data\n",
    "\n",
    "    a = Value(2.0, label='a')\n",
    "    b = Value(-3.0, label='b')\n",
    "    c = Value(10.0, label='c')\n",
    "    e = a*b\n",
    "    e.label = 'e'\n",
    "    d = e + c\n",
    "    d.label = 'd'\n",
    "    f = Value(-2.0, label='f')\n",
    "    L = d*f\n",
    "    L.label = 'L'\n",
    "    L2 = L.data\n",
    "    print((L2 - L1) / h)\n",
    "\n",
    "\n",
    "lol()\n"
   ]
  },
  {
   "cell_type": "code",
   "execution_count": 32,
   "metadata": {},
   "outputs": [
    {
     "data": {
      "image/png": "[encoded data removed]",
      "text/plain": [
       "<Figure size 432x288 with 1 Axes>"
      ]
     },
     "metadata": {
      "needs_background": "light"
     },
     "output_type": "display_data"
    }
   ],
   "source": [
    "# activation function - tanh plotted.\n",
    "plt.plot(np.arange(-5, 5, 0.2), np.tanh(np.arange(-5, 5, 0.2)))\n",
    "plt.grid()\n"
   ]
  },
  {
   "cell_type": "code",
   "execution_count": 70,
   "metadata": {},
   "outputs": [
    {
     "data": {
      "image/svg+xml": "<?xml version=\"1.0\" encoding=\"UTF-8\" standalone=\"no\"?>\n<!DOCTYPE svg PUBLIC \"-//W3C//DTD SVG 1.1//EN\"\n \"http://www.w3.org/Graphics/SVG/1.1/DTD/svg11.dtd\">\n<!-- Generated by graphviz version 2.43.0 (0)\n -->\n<!-- Title: %3 Pages: 1 -->\n<svg width=\"1825pt\" height=\"210pt\"\n viewBox=\"0.00 0.00 1824.69 210.00\" xmlns=\"http://www.w3.org/2000/svg\" xmlns:xlink=\"http://www.w3.org/1999/xlink\">\n<g id=\"graph0\" class=\"graph\" transform=\"scale(1 1) rotate(0) translate(4 206)\">\n<title>%3</title>\n<polygon fill=\"white\" stroke=\"transparent\" points=\"-4,4 -4,-206 1820.69,-206 1820.69,4 -4,4\"/>\n<!-- 140030101780992 -->\n<g id=\"node1\" class=\"node\">\n<title>140030101780992</title>\n<polygon fill=\"none\" stroke=\"black\" points=\"813.5,-137.5 813.5,-173.5 1045.5,-173.5 1045.5,-137.5 813.5,-137.5\"/>\n<text text-anchor=\"middle\" x=\"826.5\" y=\"-151.8\" font-family=\"Times,serif\" font-size=\"14.00\">b</text>\n<polyline fill=\"none\" stroke=\"black\" points=\"839.5,-137.5 839.5,-173.5 \"/>\n<text text-anchor=\"middle\" x=\"890.5\" y=\"-151.8\" font-family=\"Times,serif\" font-size=\"14.00\">data:6.8814</text>\n<polyline fill=\"none\" stroke=\"black\" points=\"941.5,-137.5 941.5,-173.5 \"/>\n<text text-anchor=\"middle\" x=\"993.5\" y=\"-151.8\" font-family=\"Times,serif\" font-size=\"14.00\">grad:0.5000</text>\n</g>\n<!-- 140030101780608+ -->\n<g id=\"node7\" class=\"node\">\n<title>140030101780608+</title>\n<ellipse fill=\"none\" stroke=\"black\" cx=\"1155\" cy=\"-127.5\" rx=\"27\" ry=\"18\"/>\n<text text-anchor=\"middle\" x=\"1155\" y=\"-123.8\" font-family=\"Times,serif\" font-size=\"14.00\">+</text>\n</g>\n<!-- 140030101780992&#45;&gt;140030101780608+ -->\n<g id=\"edge12\" class=\"edge\">\n<title>140030101780992&#45;&gt;140030101780608+</title>\n<path fill=\"none\" stroke=\"black\" d=\"M1045.52,-141.09C1072,-137.77 1098.23,-134.49 1118.26,-131.98\"/>\n<polygon fill=\"black\" stroke=\"black\" points=\"1118.94,-135.42 1128.43,-130.7 1118.07,-128.47 1118.94,-135.42\"/>\n</g>\n<!-- 140030101779456 -->\n<g id=\"node2\" class=\"node\">\n<title>140030101779456</title>\n<polygon fill=\"none\" stroke=\"black\" points=\"4.5,-55.5 4.5,-91.5 244.5,-91.5 244.5,-55.5 4.5,-55.5\"/>\n<text text-anchor=\"middle\" x=\"21.5\" y=\"-69.8\" font-family=\"Times,serif\" font-size=\"14.00\">x2</text>\n<polyline fill=\"none\" stroke=\"black\" points=\"38.5,-55.5 38.5,-91.5 \"/>\n<text text-anchor=\"middle\" x=\"89.5\" y=\"-69.8\" font-family=\"Times,serif\" font-size=\"14.00\">data:0.0000</text>\n<polyline fill=\"none\" stroke=\"black\" points=\"140.5,-55.5 140.5,-91.5 \"/>\n<text text-anchor=\"middle\" x=\"192.5\" y=\"-69.8\" font-family=\"Times,serif\" font-size=\"14.00\">grad:0.5000</text>\n</g>\n<!-- 140030101781232* -->\n<g id=\"node13\" class=\"node\">\n<title>140030101781232*</title>\n<ellipse fill=\"none\" stroke=\"black\" cx=\"312\" cy=\"-73.5\" rx=\"27\" ry=\"18\"/>\n<text text-anchor=\"middle\" x=\"312\" y=\"-69.8\" font-family=\"Times,serif\" font-size=\"14.00\">*</text>\n</g>\n<!-- 140030101779456&#45;&gt;140030101781232* -->\n<g id=\"edge7\" class=\"edge\">\n<title>140030101779456&#45;&gt;140030101781232*</title>\n<path fill=\"none\" stroke=\"black\" d=\"M244.55,-73.5C255.31,-73.5 265.54,-73.5 274.62,-73.5\"/>\n<polygon fill=\"black\" stroke=\"black\" points=\"274.7,-77 284.7,-73.5 274.7,-70 274.7,-77\"/>\n</g>\n<!-- 140030101781568 -->\n<g id=\"node3\" class=\"node\">\n<title>140030101781568</title>\n<polygon fill=\"none\" stroke=\"black\" points=\"2.5,-0.5 2.5,-36.5 246.5,-36.5 246.5,-0.5 2.5,-0.5\"/>\n<text text-anchor=\"middle\" x=\"21.5\" y=\"-14.8\" font-family=\"Times,serif\" font-size=\"14.00\">w2</text>\n<polyline fill=\"none\" stroke=\"black\" points=\"40.5,-0.5 40.5,-36.5 \"/>\n<text text-anchor=\"middle\" x=\"91.5\" y=\"-14.8\" font-family=\"Times,serif\" font-size=\"14.00\">data:1.0000</text>\n<polyline fill=\"none\" stroke=\"black\" points=\"142.5,-0.5 142.5,-36.5 \"/>\n<text text-anchor=\"middle\" x=\"194.5\" y=\"-14.8\" font-family=\"Times,serif\" font-size=\"14.00\">grad:0.0000</text>\n</g>\n<!-- 140030101781568&#45;&gt;140030101781232* -->\n<g id=\"edge14\" class=\"edge\">\n<title>140030101781568&#45;&gt;140030101781232*</title>\n<path fill=\"none\" stroke=\"black\" d=\"M214.42,-36.55C226.15,-39.54 237.93,-42.87 249,-46.5 259.46,-49.93 270.57,-54.47 280.46,-58.84\"/>\n<polygon fill=\"black\" stroke=\"black\" points=\"279.31,-62.17 289.87,-63.12 282.21,-55.79 279.31,-62.17\"/>\n</g>\n<!-- 140030101781616 -->\n<g id=\"node4\" class=\"node\">\n<title>140030101781616</title>\n<polygon fill=\"none\" stroke=\"black\" points=\"1585.69,-109.5 1585.69,-145.5 1816.69,-145.5 1816.69,-109.5 1585.69,-109.5\"/>\n<text text-anchor=\"middle\" x=\"1598.19\" y=\"-123.8\" font-family=\"Times,serif\" font-size=\"14.00\">o</text>\n<polyline fill=\"none\" stroke=\"black\" points=\"1610.69,-109.5 1610.69,-145.5 \"/>\n<text text-anchor=\"middle\" x=\"1661.69\" y=\"-123.8\" font-family=\"Times,serif\" font-size=\"14.00\">data:0.7071</text>\n<polyline fill=\"none\" stroke=\"black\" points=\"1712.69,-109.5 1712.69,-145.5 \"/>\n<text text-anchor=\"middle\" x=\"1764.69\" y=\"-123.8\" font-family=\"Times,serif\" font-size=\"14.00\">grad:1.0000</text>\n</g>\n<!-- 140030101781616tanh -->\n<g id=\"node5\" class=\"node\">\n<title>140030101781616tanh</title>\n<ellipse fill=\"none\" stroke=\"black\" cx=\"1517.85\" cy=\"-127.5\" rx=\"31.7\" ry=\"18\"/>\n<text text-anchor=\"middle\" x=\"1517.85\" y=\"-123.8\" font-family=\"Times,serif\" font-size=\"14.00\">tanh</text>\n</g>\n<!-- 140030101781616tanh&#45;&gt;140030101781616 -->\n<g id=\"edge1\" class=\"edge\">\n<title>140030101781616tanh&#45;&gt;140030101781616</title>\n<path fill=\"none\" stroke=\"black\" d=\"M1550.02,-127.5C1557.61,-127.5 1566.19,-127.5 1575.31,-127.5\"/>\n<polygon fill=\"black\" stroke=\"black\" points=\"1575.4,-131 1585.4,-127.5 1575.4,-124 1575.4,-131\"/>\n</g>\n<!-- 140030101780608 -->\n<g id=\"node6\" class=\"node\">\n<title>140030101780608</title>\n<polygon fill=\"none\" stroke=\"black\" points=\"1218,-109.5 1218,-145.5 1450,-145.5 1450,-109.5 1218,-109.5\"/>\n<text text-anchor=\"middle\" x=\"1231\" y=\"-123.8\" font-family=\"Times,serif\" font-size=\"14.00\">n</text>\n<polyline fill=\"none\" stroke=\"black\" points=\"1244,-109.5 1244,-145.5 \"/>\n<text text-anchor=\"middle\" x=\"1295\" y=\"-123.8\" font-family=\"Times,serif\" font-size=\"14.00\">data:0.8814</text>\n<polyline fill=\"none\" stroke=\"black\" points=\"1346,-109.5 1346,-145.5 \"/>\n<text text-anchor=\"middle\" x=\"1398\" y=\"-123.8\" font-family=\"Times,serif\" font-size=\"14.00\">grad:0.5000</text>\n</g>\n<!-- 140030101780608&#45;&gt;140030101781616tanh -->\n<g id=\"edge13\" class=\"edge\">\n<title>140030101780608&#45;&gt;140030101781616tanh</title>\n<path fill=\"none\" stroke=\"black\" d=\"M1450.17,-127.5C1459.08,-127.5 1467.66,-127.5 1475.53,-127.5\"/>\n<polygon fill=\"black\" stroke=\"black\" points=\"1475.78,-131 1485.78,-127.5 1475.78,-124 1475.78,-131\"/>\n</g>\n<!-- 140030101780608+&#45;&gt;140030101780608 -->\n<g id=\"edge2\" class=\"edge\">\n<title>140030101780608+&#45;&gt;140030101780608</title>\n<path fill=\"none\" stroke=\"black\" d=\"M1182.12,-127.5C1189.53,-127.5 1198.14,-127.5 1207.4,-127.5\"/>\n<polygon fill=\"black\" stroke=\"black\" points=\"1207.69,-131 1217.69,-127.5 1207.69,-124 1207.69,-131\"/>\n</g>\n<!-- 140030101780080 -->\n<g id=\"node8\" class=\"node\">\n<title>140030101780080</title>\n<polygon fill=\"none\" stroke=\"black\" points=\"375,-110.5 375,-146.5 641,-146.5 641,-110.5 375,-110.5\"/>\n<text text-anchor=\"middle\" x=\"402.5\" y=\"-124.8\" font-family=\"Times,serif\" font-size=\"14.00\">x1w1</text>\n<polyline fill=\"none\" stroke=\"black\" points=\"430,-110.5 430,-146.5 \"/>\n<text text-anchor=\"middle\" x=\"483.5\" y=\"-124.8\" font-family=\"Times,serif\" font-size=\"14.00\">data:&#45;6.0000</text>\n<polyline fill=\"none\" stroke=\"black\" points=\"537,-110.5 537,-146.5 \"/>\n<text text-anchor=\"middle\" x=\"589\" y=\"-124.8\" font-family=\"Times,serif\" font-size=\"14.00\">grad:1.0000</text>\n</g>\n<!-- 140030101782192+ -->\n<g id=\"node11\" class=\"node\">\n<title>140030101782192+</title>\n<ellipse fill=\"none\" stroke=\"black\" cx=\"704\" cy=\"-100.5\" rx=\"27\" ry=\"18\"/>\n<text text-anchor=\"middle\" x=\"704\" y=\"-96.8\" font-family=\"Times,serif\" font-size=\"14.00\">+</text>\n</g>\n<!-- 140030101780080&#45;&gt;140030101782192+ -->\n<g id=\"edge10\" class=\"edge\">\n<title>140030101780080&#45;&gt;140030101782192+</title>\n<path fill=\"none\" stroke=\"black\" d=\"M633.78,-110.49C645.77,-108.76 657.15,-107.12 667.08,-105.68\"/>\n<polygon fill=\"black\" stroke=\"black\" points=\"667.86,-109.11 677.25,-104.22 666.86,-102.18 667.86,-109.11\"/>\n</g>\n<!-- 140030101780080* -->\n<g id=\"node9\" class=\"node\">\n<title>140030101780080*</title>\n<ellipse fill=\"none\" stroke=\"black\" cx=\"312\" cy=\"-128.5\" rx=\"27\" ry=\"18\"/>\n<text text-anchor=\"middle\" x=\"312\" y=\"-124.8\" font-family=\"Times,serif\" font-size=\"14.00\">*</text>\n</g>\n<!-- 140030101780080*&#45;&gt;140030101780080 -->\n<g id=\"edge3\" class=\"edge\">\n<title>140030101780080*&#45;&gt;140030101780080</title>\n<path fill=\"none\" stroke=\"black\" d=\"M339.16,-128.5C346.61,-128.5 355.28,-128.5 364.68,-128.5\"/>\n<polygon fill=\"black\" stroke=\"black\" points=\"364.73,-132 374.73,-128.5 364.73,-125 364.73,-132\"/>\n</g>\n<!-- 140030101782192 -->\n<g id=\"node10\" class=\"node\">\n<title>140030101782192</title>\n<polygon fill=\"none\" stroke=\"black\" points=\"767,-82.5 767,-118.5 1092,-118.5 1092,-82.5 767,-82.5\"/>\n<text text-anchor=\"middle\" x=\"824\" y=\"-96.8\" font-family=\"Times,serif\" font-size=\"14.00\">x1w1 + x2w2</text>\n<polyline fill=\"none\" stroke=\"black\" points=\"881,-82.5 881,-118.5 \"/>\n<text text-anchor=\"middle\" x=\"934.5\" y=\"-96.8\" font-family=\"Times,serif\" font-size=\"14.00\">data:&#45;6.0000</text>\n<polyline fill=\"none\" stroke=\"black\" points=\"988,-82.5 988,-118.5 \"/>\n<text text-anchor=\"middle\" x=\"1040\" y=\"-96.8\" font-family=\"Times,serif\" font-size=\"14.00\">grad:0.5000</text>\n</g>\n<!-- 140030101782192&#45;&gt;140030101780608+ -->\n<g id=\"edge8\" class=\"edge\">\n<title>140030101782192&#45;&gt;140030101780608+</title>\n<path fill=\"none\" stroke=\"black\" d=\"M1079.58,-118.51C1093.66,-120.21 1106.84,-121.8 1118.09,-123.16\"/>\n<polygon fill=\"black\" stroke=\"black\" points=\"1117.89,-126.66 1128.24,-124.39 1118.73,-119.71 1117.89,-126.66\"/>\n</g>\n<!-- 140030101782192+&#45;&gt;140030101782192 -->\n<g id=\"edge4\" class=\"edge\">\n<title>140030101782192+&#45;&gt;140030101782192</title>\n<path fill=\"none\" stroke=\"black\" d=\"M731.08,-100.5C738.51,-100.5 747.21,-100.5 756.74,-100.5\"/>\n<polygon fill=\"black\" stroke=\"black\" points=\"756.95,-104 766.95,-100.5 756.95,-97 756.95,-104\"/>\n</g>\n<!-- 140030101781232 -->\n<g id=\"node12\" class=\"node\">\n<title>140030101781232</title>\n<polygon fill=\"none\" stroke=\"black\" points=\"377.5,-55.5 377.5,-91.5 638.5,-91.5 638.5,-55.5 377.5,-55.5\"/>\n<text text-anchor=\"middle\" x=\"405\" y=\"-69.8\" font-family=\"Times,serif\" font-size=\"14.00\">x2w2</text>\n<polyline fill=\"none\" stroke=\"black\" points=\"432.5,-55.5 432.5,-91.5 \"/>\n<text text-anchor=\"middle\" x=\"483.5\" y=\"-69.8\" font-family=\"Times,serif\" font-size=\"14.00\">data:0.0000</text>\n<polyline fill=\"none\" stroke=\"black\" points=\"534.5,-55.5 534.5,-91.5 \"/>\n<text text-anchor=\"middle\" x=\"586.5\" y=\"-69.8\" font-family=\"Times,serif\" font-size=\"14.00\">grad:0.0000</text>\n</g>\n<!-- 140030101781232&#45;&gt;140030101782192+ -->\n<g id=\"edge6\" class=\"edge\">\n<title>140030101781232&#45;&gt;140030101782192+</title>\n<path fill=\"none\" stroke=\"black\" d=\"M638.4,-91.51C648.78,-92.95 658.6,-94.32 667.3,-95.53\"/>\n<polygon fill=\"black\" stroke=\"black\" points=\"666.94,-99.01 677.32,-96.93 667.9,-92.08 666.94,-99.01\"/>\n</g>\n<!-- 140030101781232*&#45;&gt;140030101781232 -->\n<g id=\"edge5\" class=\"edge\">\n<title>140030101781232*&#45;&gt;140030101781232</title>\n<path fill=\"none\" stroke=\"black\" d=\"M339.16,-73.5C347.24,-73.5 356.75,-73.5 367.07,-73.5\"/>\n<polygon fill=\"black\" stroke=\"black\" points=\"367.2,-77 377.2,-73.5 367.2,-70 367.2,-77\"/>\n</g>\n<!-- 140030101779312 -->\n<g id=\"node14\" class=\"node\">\n<title>140030101779312</title>\n<polygon fill=\"none\" stroke=\"black\" points=\"2.5,-165.5 2.5,-201.5 246.5,-201.5 246.5,-165.5 2.5,-165.5\"/>\n<text text-anchor=\"middle\" x=\"19.5\" y=\"-179.8\" font-family=\"Times,serif\" font-size=\"14.00\">x1</text>\n<polyline fill=\"none\" stroke=\"black\" points=\"36.5,-165.5 36.5,-201.5 \"/>\n<text text-anchor=\"middle\" x=\"87.5\" y=\"-179.8\" font-family=\"Times,serif\" font-size=\"14.00\">data:2.0000</text>\n<polyline fill=\"none\" stroke=\"black\" points=\"138.5,-165.5 138.5,-201.5 \"/>\n<text text-anchor=\"middle\" x=\"192.5\" y=\"-179.8\" font-family=\"Times,serif\" font-size=\"14.00\">grad:&#45;1.5000</text>\n</g>\n<!-- 140030101779312&#45;&gt;140030101780080* -->\n<g id=\"edge9\" class=\"edge\">\n<title>140030101779312&#45;&gt;140030101780080*</title>\n<path fill=\"none\" stroke=\"black\" d=\"M218.13,-165.46C228.63,-162.77 239.1,-159.78 249,-156.5 259.71,-152.96 271.05,-148.16 281.07,-143.54\"/>\n<polygon fill=\"black\" stroke=\"black\" points=\"282.67,-146.66 290.2,-139.21 279.67,-140.33 282.67,-146.66\"/>\n</g>\n<!-- 140030101779888 -->\n<g id=\"node15\" class=\"node\">\n<title>140030101779888</title>\n<polygon fill=\"none\" stroke=\"black\" points=\"0,-110.5 0,-146.5 249,-146.5 249,-110.5 0,-110.5\"/>\n<text text-anchor=\"middle\" x=\"19\" y=\"-124.8\" font-family=\"Times,serif\" font-size=\"14.00\">w1</text>\n<polyline fill=\"none\" stroke=\"black\" points=\"38,-110.5 38,-146.5 \"/>\n<text text-anchor=\"middle\" x=\"91.5\" y=\"-124.8\" font-family=\"Times,serif\" font-size=\"14.00\">data:&#45;3.0000</text>\n<polyline fill=\"none\" stroke=\"black\" points=\"145,-110.5 145,-146.5 \"/>\n<text text-anchor=\"middle\" x=\"197\" y=\"-124.8\" font-family=\"Times,serif\" font-size=\"14.00\">grad:0.0000</text>\n</g>\n<!-- 140030101779888&#45;&gt;140030101780080* -->\n<g id=\"edge11\" class=\"edge\">\n<title>140030101779888&#45;&gt;140030101780080*</title>\n<path fill=\"none\" stroke=\"black\" d=\"M249.23,-128.5C258.37,-128.5 267.05,-128.5 274.87,-128.5\"/>\n<polygon fill=\"black\" stroke=\"black\" points=\"274.95,-132 284.95,-128.5 274.95,-125 274.95,-132\"/>\n</g>\n</g>\n</svg>\n",
      "text/plain": [
       "<graphviz.graphs.Digraph at 0x7f5b4c797070>"
      ]
     },
     "execution_count": 70,
     "metadata": {},
     "output_type": "execute_result"
    }
   ],
   "source": [
    "# inputs x1, x2\n",
    "x1 = Value(2.0, label='x1')\n",
    "x2 = Value(0.0, label='x2')\n",
    "# weights w1, w2\n",
    "w1 = Value(-3.0, label='w1')\n",
    "w2 = Value(1.0, label='w2')\n",
    "# bias of the neuron\n",
    "b = Value(6.881373, label='b')\n",
    "# x1w1 + x2w2 + b\n",
    "x1w1 = x1 * w1\n",
    "x1w1.label = 'x1w1'\n",
    "x2w2 = x2 * w2\n",
    "x2w2.label = 'x2w2'\n",
    "x1w1x2w2 = x1w1 + x2w2\n",
    "x1w1x2w2.label = 'x1w1 + x2w2'\n",
    "n = x1w1x2w2 + b\n",
    "n.label = 'n'\n",
    "o = n.tanh()\n",
    "o.label = 'o'\n",
    "\n",
    "draw_dot(o)\n",
    "o.backward()\n",
    "draw_dot(o)"
   ]
  },
  {
   "cell_type": "code",
   "execution_count": 66,
   "metadata": {},
   "outputs": [
    {
     "data": {
      "image/svg+xml": "<?xml version=\"1.0\" encoding=\"UTF-8\" standalone=\"no\"?>\n<!DOCTYPE svg PUBLIC \"-//W3C//DTD SVG 1.1//EN\"\n \"http://www.w3.org/Graphics/SVG/1.1/DTD/svg11.dtd\">\n<!-- Generated by graphviz version 2.43.0 (0)\n -->\n<!-- Title: %3 Pages: 1 -->\n<svg width=\"1825pt\" height=\"210pt\"\n viewBox=\"0.00 0.00 1824.69 210.00\" xmlns=\"http://www.w3.org/2000/svg\" xmlns:xlink=\"http://www.w3.org/1999/xlink\">\n<g id=\"graph0\" class=\"graph\" transform=\"scale(1 1) rotate(0) translate(4 206)\">\n<title>%3</title>\n<polygon fill=\"white\" stroke=\"transparent\" points=\"-4,4 -4,-206 1820.69,-206 1820.69,4 -4,4\"/>\n<!-- 140030101720128 -->\n<g id=\"node1\" class=\"node\">\n<title>140030101720128</title>\n<polygon fill=\"none\" stroke=\"black\" points=\"4.5,-165.5 4.5,-201.5 244.5,-201.5 244.5,-165.5 4.5,-165.5\"/>\n<text text-anchor=\"middle\" x=\"21.5\" y=\"-179.8\" font-family=\"Times,serif\" font-size=\"14.00\">x2</text>\n<polyline fill=\"none\" stroke=\"black\" points=\"38.5,-165.5 38.5,-201.5 \"/>\n<text text-anchor=\"middle\" x=\"89.5\" y=\"-179.8\" font-family=\"Times,serif\" font-size=\"14.00\">data:0.0000</text>\n<polyline fill=\"none\" stroke=\"black\" points=\"140.5,-165.5 140.5,-201.5 \"/>\n<text text-anchor=\"middle\" x=\"192.5\" y=\"-179.8\" font-family=\"Times,serif\" font-size=\"14.00\">grad:0.5000</text>\n</g>\n<!-- 140030101720224* -->\n<g id=\"node6\" class=\"node\">\n<title>140030101720224*</title>\n<ellipse fill=\"none\" stroke=\"black\" cx=\"312\" cy=\"-128.5\" rx=\"27\" ry=\"18\"/>\n<text text-anchor=\"middle\" x=\"312\" y=\"-124.8\" font-family=\"Times,serif\" font-size=\"14.00\">*</text>\n</g>\n<!-- 140030101720128&#45;&gt;140030101720224* -->\n<g id=\"edge7\" class=\"edge\">\n<title>140030101720128&#45;&gt;140030101720224*</title>\n<path fill=\"none\" stroke=\"black\" d=\"M218.13,-165.46C228.63,-162.77 239.1,-159.78 249,-156.5 259.71,-152.96 271.05,-148.16 281.07,-143.54\"/>\n<polygon fill=\"black\" stroke=\"black\" points=\"282.67,-146.66 290.2,-139.21 279.67,-140.33 282.67,-146.66\"/>\n</g>\n<!-- 140030101720656 -->\n<g id=\"node2\" class=\"node\">\n<title>140030101720656</title>\n<polygon fill=\"none\" stroke=\"black\" points=\"0,-55.5 0,-91.5 249,-91.5 249,-55.5 0,-55.5\"/>\n<text text-anchor=\"middle\" x=\"19\" y=\"-69.8\" font-family=\"Times,serif\" font-size=\"14.00\">w1</text>\n<polyline fill=\"none\" stroke=\"black\" points=\"38,-55.5 38,-91.5 \"/>\n<text text-anchor=\"middle\" x=\"91.5\" y=\"-69.8\" font-family=\"Times,serif\" font-size=\"14.00\">data:&#45;3.0000</text>\n<polyline fill=\"none\" stroke=\"black\" points=\"145,-55.5 145,-91.5 \"/>\n<text text-anchor=\"middle\" x=\"197\" y=\"-69.8\" font-family=\"Times,serif\" font-size=\"14.00\">grad:0.0000</text>\n</g>\n<!-- 140030101719408* -->\n<g id=\"node11\" class=\"node\">\n<title>140030101719408*</title>\n<ellipse fill=\"none\" stroke=\"black\" cx=\"312\" cy=\"-73.5\" rx=\"27\" ry=\"18\"/>\n<text text-anchor=\"middle\" x=\"312\" y=\"-69.8\" font-family=\"Times,serif\" font-size=\"14.00\">*</text>\n</g>\n<!-- 140030101720656&#45;&gt;140030101719408* -->\n<g id=\"edge8\" class=\"edge\">\n<title>140030101720656&#45;&gt;140030101719408*</title>\n<path fill=\"none\" stroke=\"black\" d=\"M249.23,-73.5C258.37,-73.5 267.05,-73.5 274.87,-73.5\"/>\n<polygon fill=\"black\" stroke=\"black\" points=\"274.95,-77 284.95,-73.5 274.95,-70 274.95,-77\"/>\n</g>\n<!-- 140029825158784 -->\n<g id=\"node3\" class=\"node\">\n<title>140029825158784</title>\n<polygon fill=\"none\" stroke=\"black\" points=\"1585.69,-54.5 1585.69,-90.5 1816.69,-90.5 1816.69,-54.5 1585.69,-54.5\"/>\n<text text-anchor=\"middle\" x=\"1598.19\" y=\"-68.8\" font-family=\"Times,serif\" font-size=\"14.00\">o</text>\n<polyline fill=\"none\" stroke=\"black\" points=\"1610.69,-54.5 1610.69,-90.5 \"/>\n<text text-anchor=\"middle\" x=\"1661.69\" y=\"-68.8\" font-family=\"Times,serif\" font-size=\"14.00\">data:0.7071</text>\n<polyline fill=\"none\" stroke=\"black\" points=\"1712.69,-54.5 1712.69,-90.5 \"/>\n<text text-anchor=\"middle\" x=\"1764.69\" y=\"-68.8\" font-family=\"Times,serif\" font-size=\"14.00\">grad:1.0000</text>\n</g>\n<!-- 140029825158784tanh -->\n<g id=\"node4\" class=\"node\">\n<title>140029825158784tanh</title>\n<ellipse fill=\"none\" stroke=\"black\" cx=\"1517.85\" cy=\"-72.5\" rx=\"31.7\" ry=\"18\"/>\n<text text-anchor=\"middle\" x=\"1517.85\" y=\"-68.8\" font-family=\"Times,serif\" font-size=\"14.00\">tanh</text>\n</g>\n<!-- 140029825158784tanh&#45;&gt;140029825158784 -->\n<g id=\"edge1\" class=\"edge\">\n<title>140029825158784tanh&#45;&gt;140029825158784</title>\n<path fill=\"none\" stroke=\"black\" d=\"M1550.02,-72.5C1557.61,-72.5 1566.19,-72.5 1575.31,-72.5\"/>\n<polygon fill=\"black\" stroke=\"black\" points=\"1575.4,-76 1585.4,-72.5 1575.4,-69 1575.4,-76\"/>\n</g>\n<!-- 140030101720224 -->\n<g id=\"node5\" class=\"node\">\n<title>140030101720224</title>\n<polygon fill=\"none\" stroke=\"black\" points=\"377.5,-110.5 377.5,-146.5 638.5,-146.5 638.5,-110.5 377.5,-110.5\"/>\n<text text-anchor=\"middle\" x=\"405\" y=\"-124.8\" font-family=\"Times,serif\" font-size=\"14.00\">x2w2</text>\n<polyline fill=\"none\" stroke=\"black\" points=\"432.5,-110.5 432.5,-146.5 \"/>\n<text text-anchor=\"middle\" x=\"483.5\" y=\"-124.8\" font-family=\"Times,serif\" font-size=\"14.00\">data:0.0000</text>\n<polyline fill=\"none\" stroke=\"black\" points=\"534.5,-110.5 534.5,-146.5 \"/>\n<text text-anchor=\"middle\" x=\"586.5\" y=\"-124.8\" font-family=\"Times,serif\" font-size=\"14.00\">grad:0.0000</text>\n</g>\n<!-- 140030101720848+ -->\n<g id=\"node8\" class=\"node\">\n<title>140030101720848+</title>\n<ellipse fill=\"none\" stroke=\"black\" cx=\"704\" cy=\"-100.5\" rx=\"27\" ry=\"18\"/>\n<text text-anchor=\"middle\" x=\"704\" y=\"-96.8\" font-family=\"Times,serif\" font-size=\"14.00\">+</text>\n</g>\n<!-- 140030101720224&#45;&gt;140030101720848+ -->\n<g id=\"edge12\" class=\"edge\">\n<title>140030101720224&#45;&gt;140030101720848+</title>\n<path fill=\"none\" stroke=\"black\" d=\"M633.78,-110.49C645.77,-108.76 657.15,-107.12 667.08,-105.68\"/>\n<polygon fill=\"black\" stroke=\"black\" points=\"667.86,-109.11 677.25,-104.22 666.86,-102.18 667.86,-109.11\"/>\n</g>\n<!-- 140030101720224*&#45;&gt;140030101720224 -->\n<g id=\"edge2\" class=\"edge\">\n<title>140030101720224*&#45;&gt;140030101720224</title>\n<path fill=\"none\" stroke=\"black\" d=\"M339.16,-128.5C347.24,-128.5 356.75,-128.5 367.07,-128.5\"/>\n<polygon fill=\"black\" stroke=\"black\" points=\"367.2,-132 377.2,-128.5 367.2,-125 367.2,-132\"/>\n</g>\n<!-- 140030101720848 -->\n<g id=\"node7\" class=\"node\">\n<title>140030101720848</title>\n<polygon fill=\"none\" stroke=\"black\" points=\"767,-82.5 767,-118.5 1092,-118.5 1092,-82.5 767,-82.5\"/>\n<text text-anchor=\"middle\" x=\"824\" y=\"-96.8\" font-family=\"Times,serif\" font-size=\"14.00\">x1w1 + x2w2</text>\n<polyline fill=\"none\" stroke=\"black\" points=\"881,-82.5 881,-118.5 \"/>\n<text text-anchor=\"middle\" x=\"934.5\" y=\"-96.8\" font-family=\"Times,serif\" font-size=\"14.00\">data:&#45;6.0000</text>\n<polyline fill=\"none\" stroke=\"black\" points=\"988,-82.5 988,-118.5 \"/>\n<text text-anchor=\"middle\" x=\"1040\" y=\"-96.8\" font-family=\"Times,serif\" font-size=\"14.00\">grad:0.5000</text>\n</g>\n<!-- 140029825158640+ -->\n<g id=\"node15\" class=\"node\">\n<title>140029825158640+</title>\n<ellipse fill=\"none\" stroke=\"black\" cx=\"1155\" cy=\"-72.5\" rx=\"27\" ry=\"18\"/>\n<text text-anchor=\"middle\" x=\"1155\" y=\"-68.8\" font-family=\"Times,serif\" font-size=\"14.00\">+</text>\n</g>\n<!-- 140030101720848&#45;&gt;140029825158640+ -->\n<g id=\"edge10\" class=\"edge\">\n<title>140030101720848&#45;&gt;140029825158640+</title>\n<path fill=\"none\" stroke=\"black\" d=\"M1074.26,-82.49C1090.41,-80.47 1105.59,-78.56 1118.28,-76.97\"/>\n<polygon fill=\"black\" stroke=\"black\" points=\"1118.84,-80.43 1128.32,-75.72 1117.96,-73.49 1118.84,-80.43\"/>\n</g>\n<!-- 140030101720848+&#45;&gt;140030101720848 -->\n<g id=\"edge3\" class=\"edge\">\n<title>140030101720848+&#45;&gt;140030101720848</title>\n<path fill=\"none\" stroke=\"black\" d=\"M731.08,-100.5C738.51,-100.5 747.21,-100.5 756.74,-100.5\"/>\n<polygon fill=\"black\" stroke=\"black\" points=\"756.95,-104 766.95,-100.5 756.95,-97 756.95,-104\"/>\n</g>\n<!-- 140030101720368 -->\n<g id=\"node9\" class=\"node\">\n<title>140030101720368</title>\n<polygon fill=\"none\" stroke=\"black\" points=\"2.5,-110.5 2.5,-146.5 246.5,-146.5 246.5,-110.5 2.5,-110.5\"/>\n<text text-anchor=\"middle\" x=\"21.5\" y=\"-124.8\" font-family=\"Times,serif\" font-size=\"14.00\">w2</text>\n<polyline fill=\"none\" stroke=\"black\" points=\"40.5,-110.5 40.5,-146.5 \"/>\n<text text-anchor=\"middle\" x=\"91.5\" y=\"-124.8\" font-family=\"Times,serif\" font-size=\"14.00\">data:1.0000</text>\n<polyline fill=\"none\" stroke=\"black\" points=\"142.5,-110.5 142.5,-146.5 \"/>\n<text text-anchor=\"middle\" x=\"194.5\" y=\"-124.8\" font-family=\"Times,serif\" font-size=\"14.00\">grad:0.0000</text>\n</g>\n<!-- 140030101720368&#45;&gt;140030101720224* -->\n<g id=\"edge6\" class=\"edge\">\n<title>140030101720368&#45;&gt;140030101720224*</title>\n<path fill=\"none\" stroke=\"black\" d=\"M246.64,-128.5C256.7,-128.5 266.26,-128.5 274.79,-128.5\"/>\n<polygon fill=\"black\" stroke=\"black\" points=\"275,-132 285,-128.5 275,-125 275,-132\"/>\n</g>\n<!-- 140030101719408 -->\n<g id=\"node10\" class=\"node\">\n<title>140030101719408</title>\n<polygon fill=\"none\" stroke=\"black\" points=\"375,-55.5 375,-91.5 641,-91.5 641,-55.5 375,-55.5\"/>\n<text text-anchor=\"middle\" x=\"402.5\" y=\"-69.8\" font-family=\"Times,serif\" font-size=\"14.00\">x1w1</text>\n<polyline fill=\"none\" stroke=\"black\" points=\"430,-55.5 430,-91.5 \"/>\n<text text-anchor=\"middle\" x=\"483.5\" y=\"-69.8\" font-family=\"Times,serif\" font-size=\"14.00\">data:&#45;6.0000</text>\n<polyline fill=\"none\" stroke=\"black\" points=\"537,-55.5 537,-91.5 \"/>\n<text text-anchor=\"middle\" x=\"589\" y=\"-69.8\" font-family=\"Times,serif\" font-size=\"14.00\">grad:1.0000</text>\n</g>\n<!-- 140030101719408&#45;&gt;140030101720848+ -->\n<g id=\"edge14\" class=\"edge\">\n<title>140030101719408&#45;&gt;140030101720848+</title>\n<path fill=\"none\" stroke=\"black\" d=\"M638.4,-91.51C648.78,-92.95 658.6,-94.32 667.3,-95.53\"/>\n<polygon fill=\"black\" stroke=\"black\" points=\"666.94,-99.01 677.32,-96.93 667.9,-92.08 666.94,-99.01\"/>\n</g>\n<!-- 140030101719408*&#45;&gt;140030101719408 -->\n<g id=\"edge4\" class=\"edge\">\n<title>140030101719408*&#45;&gt;140030101719408</title>\n<path fill=\"none\" stroke=\"black\" d=\"M339.16,-73.5C346.61,-73.5 355.28,-73.5 364.68,-73.5\"/>\n<polygon fill=\"black\" stroke=\"black\" points=\"364.73,-77 374.73,-73.5 364.73,-70 364.73,-77\"/>\n</g>\n<!-- 140030101720944 -->\n<g id=\"node12\" class=\"node\">\n<title>140030101720944</title>\n<polygon fill=\"none\" stroke=\"black\" points=\"813.5,-27.5 813.5,-63.5 1045.5,-63.5 1045.5,-27.5 813.5,-27.5\"/>\n<text text-anchor=\"middle\" x=\"826.5\" y=\"-41.8\" font-family=\"Times,serif\" font-size=\"14.00\">b</text>\n<polyline fill=\"none\" stroke=\"black\" points=\"839.5,-27.5 839.5,-63.5 \"/>\n<text text-anchor=\"middle\" x=\"890.5\" y=\"-41.8\" font-family=\"Times,serif\" font-size=\"14.00\">data:6.8814</text>\n<polyline fill=\"none\" stroke=\"black\" points=\"941.5,-27.5 941.5,-63.5 \"/>\n<text text-anchor=\"middle\" x=\"993.5\" y=\"-41.8\" font-family=\"Times,serif\" font-size=\"14.00\">grad:0.5000</text>\n</g>\n<!-- 140030101720944&#45;&gt;140029825158640+ -->\n<g id=\"edge9\" class=\"edge\">\n<title>140030101720944&#45;&gt;140029825158640+</title>\n<path fill=\"none\" stroke=\"black\" d=\"M1045.52,-59.4C1071.82,-62.57 1097.87,-65.72 1117.85,-68.13\"/>\n<polygon fill=\"black\" stroke=\"black\" points=\"1117.65,-71.63 1128,-69.36 1118.49,-64.68 1117.65,-71.63\"/>\n</g>\n<!-- 140030101717488 -->\n<g id=\"node13\" class=\"node\">\n<title>140030101717488</title>\n<polygon fill=\"none\" stroke=\"black\" points=\"2.5,-0.5 2.5,-36.5 246.5,-36.5 246.5,-0.5 2.5,-0.5\"/>\n<text text-anchor=\"middle\" x=\"19.5\" y=\"-14.8\" font-family=\"Times,serif\" font-size=\"14.00\">x1</text>\n<polyline fill=\"none\" stroke=\"black\" points=\"36.5,-0.5 36.5,-36.5 \"/>\n<text text-anchor=\"middle\" x=\"87.5\" y=\"-14.8\" font-family=\"Times,serif\" font-size=\"14.00\">data:2.0000</text>\n<polyline fill=\"none\" stroke=\"black\" points=\"138.5,-0.5 138.5,-36.5 \"/>\n<text text-anchor=\"middle\" x=\"192.5\" y=\"-14.8\" font-family=\"Times,serif\" font-size=\"14.00\">grad:&#45;1.5000</text>\n</g>\n<!-- 140030101717488&#45;&gt;140030101719408* -->\n<g id=\"edge13\" class=\"edge\">\n<title>140030101717488&#45;&gt;140030101719408*</title>\n<path fill=\"none\" stroke=\"black\" d=\"M214.42,-36.55C226.15,-39.54 237.93,-42.87 249,-46.5 259.46,-49.93 270.57,-54.47 280.46,-58.84\"/>\n<polygon fill=\"black\" stroke=\"black\" points=\"279.31,-62.17 289.87,-63.12 282.21,-55.79 279.31,-62.17\"/>\n</g>\n<!-- 140029825158640 -->\n<g id=\"node14\" class=\"node\">\n<title>140029825158640</title>\n<polygon fill=\"none\" stroke=\"black\" points=\"1218,-54.5 1218,-90.5 1450,-90.5 1450,-54.5 1218,-54.5\"/>\n<text text-anchor=\"middle\" x=\"1231\" y=\"-68.8\" font-family=\"Times,serif\" font-size=\"14.00\">n</text>\n<polyline fill=\"none\" stroke=\"black\" points=\"1244,-54.5 1244,-90.5 \"/>\n<text text-anchor=\"middle\" x=\"1295\" y=\"-68.8\" font-family=\"Times,serif\" font-size=\"14.00\">data:0.8814</text>\n<polyline fill=\"none\" stroke=\"black\" points=\"1346,-54.5 1346,-90.5 \"/>\n<text text-anchor=\"middle\" x=\"1398\" y=\"-68.8\" font-family=\"Times,serif\" font-size=\"14.00\">grad:0.5000</text>\n</g>\n<!-- 140029825158640&#45;&gt;140029825158784tanh -->\n<g id=\"edge11\" class=\"edge\">\n<title>140029825158640&#45;&gt;140029825158784tanh</title>\n<path fill=\"none\" stroke=\"black\" d=\"M1450.17,-72.5C1459.08,-72.5 1467.66,-72.5 1475.53,-72.5\"/>\n<polygon fill=\"black\" stroke=\"black\" points=\"1475.78,-76 1485.78,-72.5 1475.78,-69 1475.78,-76\"/>\n</g>\n<!-- 140029825158640+&#45;&gt;140029825158640 -->\n<g id=\"edge5\" class=\"edge\">\n<title>140029825158640+&#45;&gt;140029825158640</title>\n<path fill=\"none\" stroke=\"black\" d=\"M1182.12,-72.5C1189.53,-72.5 1198.14,-72.5 1207.4,-72.5\"/>\n<polygon fill=\"black\" stroke=\"black\" points=\"1207.69,-76 1217.69,-72.5 1207.69,-69 1207.69,-76\"/>\n</g>\n</g>\n</svg>\n",
      "text/plain": [
       "<graphviz.graphs.Digraph at 0x7f5b4c797460>"
      ]
     },
     "execution_count": 66,
     "metadata": {},
     "output_type": "execute_result"
    }
   ],
   "source": [
    "o.grad = 1.0\n",
    "topo = []\n",
    "visited = set()\n",
    "def build_topo(v):\n",
    "    if v not in visited:\n",
    "        for child in v._prev:\n",
    "            build_topo(child)\n",
    "        topo.append(v)\n",
    "build_topo(o)\n",
    "for node in reversed(topo):\n",
    "    node._backward()\n",
    "draw_dot(o)"
   ]
  },
  {
   "cell_type": "code",
   "execution_count": 65,
   "metadata": {},
   "outputs": [
    {
     "data": {
      "text/plain": [
       "[Value(data=1.0),\n",
       " Value(data=0.0),\n",
       " Value(data=0.0),\n",
       " Value(data=-3.0),\n",
       " Value(data=2.0),\n",
       " Value(data=-6.0),\n",
       " Value(data=-6.0),\n",
       " Value(data=6.881373),\n",
       " Value(data=0.881373),\n",
       " Value(data=0.7071064876766542)]"
      ]
     },
     "execution_count": 65,
     "metadata": {},
     "output_type": "execute_result"
    }
   ],
   "source": [
    "# TODO: Topological sort is used to find all dependencies and then generate the backward calls.\n",
    "topo = []\n",
    "visited = set()\n",
    "def build_topo(v):\n",
    "    if v not in visited:\n",
    "        for child in v._prev:\n",
    "            build_topo(child)\n",
    "        topo.append(v)\n",
    "build_topo(o)\n",
    "topo"
   ]
  },
  {
   "cell_type": "code",
   "execution_count": 64,
   "metadata": {},
   "outputs": [
    {
     "data": {
      "image/svg+xml": "<?xml version=\"1.0\" encoding=\"UTF-8\" standalone=\"no\"?>\n<!DOCTYPE svg PUBLIC \"-//W3C//DTD SVG 1.1//EN\"\n \"http://www.w3.org/Graphics/SVG/1.1/DTD/svg11.dtd\">\n<!-- Generated by graphviz version 2.43.0 (0)\n -->\n<!-- Title: %3 Pages: 1 -->\n<svg width=\"1825pt\" height=\"210pt\"\n viewBox=\"0.00 0.00 1824.69 210.00\" xmlns=\"http://www.w3.org/2000/svg\" xmlns:xlink=\"http://www.w3.org/1999/xlink\">\n<g id=\"graph0\" class=\"graph\" transform=\"scale(1 1) rotate(0) translate(4 206)\">\n<title>%3</title>\n<polygon fill=\"white\" stroke=\"transparent\" points=\"-4,4 -4,-206 1820.69,-206 1820.69,4 -4,4\"/>\n<!-- 140030101720128 -->\n<g id=\"node1\" class=\"node\">\n<title>140030101720128</title>\n<polygon fill=\"none\" stroke=\"black\" points=\"4.5,-165.5 4.5,-201.5 244.5,-201.5 244.5,-165.5 4.5,-165.5\"/>\n<text text-anchor=\"middle\" x=\"21.5\" y=\"-179.8\" font-family=\"Times,serif\" font-size=\"14.00\">x2</text>\n<polyline fill=\"none\" stroke=\"black\" points=\"38.5,-165.5 38.5,-201.5 \"/>\n<text text-anchor=\"middle\" x=\"89.5\" y=\"-179.8\" font-family=\"Times,serif\" font-size=\"14.00\">data:0.0000</text>\n<polyline fill=\"none\" stroke=\"black\" points=\"140.5,-165.5 140.5,-201.5 \"/>\n<text text-anchor=\"middle\" x=\"192.5\" y=\"-179.8\" font-family=\"Times,serif\" font-size=\"14.00\">grad:0.5000</text>\n</g>\n<!-- 140030101720224* -->\n<g id=\"node6\" class=\"node\">\n<title>140030101720224*</title>\n<ellipse fill=\"none\" stroke=\"black\" cx=\"312\" cy=\"-128.5\" rx=\"27\" ry=\"18\"/>\n<text text-anchor=\"middle\" x=\"312\" y=\"-124.8\" font-family=\"Times,serif\" font-size=\"14.00\">*</text>\n</g>\n<!-- 140030101720128&#45;&gt;140030101720224* -->\n<g id=\"edge7\" class=\"edge\">\n<title>140030101720128&#45;&gt;140030101720224*</title>\n<path fill=\"none\" stroke=\"black\" d=\"M218.13,-165.46C228.63,-162.77 239.1,-159.78 249,-156.5 259.71,-152.96 271.05,-148.16 281.07,-143.54\"/>\n<polygon fill=\"black\" stroke=\"black\" points=\"282.67,-146.66 290.2,-139.21 279.67,-140.33 282.67,-146.66\"/>\n</g>\n<!-- 140030101720656 -->\n<g id=\"node2\" class=\"node\">\n<title>140030101720656</title>\n<polygon fill=\"none\" stroke=\"black\" points=\"0,-55.5 0,-91.5 249,-91.5 249,-55.5 0,-55.5\"/>\n<text text-anchor=\"middle\" x=\"19\" y=\"-69.8\" font-family=\"Times,serif\" font-size=\"14.00\">w1</text>\n<polyline fill=\"none\" stroke=\"black\" points=\"38,-55.5 38,-91.5 \"/>\n<text text-anchor=\"middle\" x=\"91.5\" y=\"-69.8\" font-family=\"Times,serif\" font-size=\"14.00\">data:&#45;3.0000</text>\n<polyline fill=\"none\" stroke=\"black\" points=\"145,-55.5 145,-91.5 \"/>\n<text text-anchor=\"middle\" x=\"197\" y=\"-69.8\" font-family=\"Times,serif\" font-size=\"14.00\">grad:0.0000</text>\n</g>\n<!-- 140030101719408* -->\n<g id=\"node11\" class=\"node\">\n<title>140030101719408*</title>\n<ellipse fill=\"none\" stroke=\"black\" cx=\"312\" cy=\"-73.5\" rx=\"27\" ry=\"18\"/>\n<text text-anchor=\"middle\" x=\"312\" y=\"-69.8\" font-family=\"Times,serif\" font-size=\"14.00\">*</text>\n</g>\n<!-- 140030101720656&#45;&gt;140030101719408* -->\n<g id=\"edge8\" class=\"edge\">\n<title>140030101720656&#45;&gt;140030101719408*</title>\n<path fill=\"none\" stroke=\"black\" d=\"M249.23,-73.5C258.37,-73.5 267.05,-73.5 274.87,-73.5\"/>\n<polygon fill=\"black\" stroke=\"black\" points=\"274.95,-77 284.95,-73.5 274.95,-70 274.95,-77\"/>\n</g>\n<!-- 140029825158784 -->\n<g id=\"node3\" class=\"node\">\n<title>140029825158784</title>\n<polygon fill=\"none\" stroke=\"black\" points=\"1585.69,-54.5 1585.69,-90.5 1816.69,-90.5 1816.69,-54.5 1585.69,-54.5\"/>\n<text text-anchor=\"middle\" x=\"1598.19\" y=\"-68.8\" font-family=\"Times,serif\" font-size=\"14.00\">o</text>\n<polyline fill=\"none\" stroke=\"black\" points=\"1610.69,-54.5 1610.69,-90.5 \"/>\n<text text-anchor=\"middle\" x=\"1661.69\" y=\"-68.8\" font-family=\"Times,serif\" font-size=\"14.00\">data:0.7071</text>\n<polyline fill=\"none\" stroke=\"black\" points=\"1712.69,-54.5 1712.69,-90.5 \"/>\n<text text-anchor=\"middle\" x=\"1764.69\" y=\"-68.8\" font-family=\"Times,serif\" font-size=\"14.00\">grad:1.0000</text>\n</g>\n<!-- 140029825158784tanh -->\n<g id=\"node4\" class=\"node\">\n<title>140029825158784tanh</title>\n<ellipse fill=\"none\" stroke=\"black\" cx=\"1517.85\" cy=\"-72.5\" rx=\"31.7\" ry=\"18\"/>\n<text text-anchor=\"middle\" x=\"1517.85\" y=\"-68.8\" font-family=\"Times,serif\" font-size=\"14.00\">tanh</text>\n</g>\n<!-- 140029825158784tanh&#45;&gt;140029825158784 -->\n<g id=\"edge1\" class=\"edge\">\n<title>140029825158784tanh&#45;&gt;140029825158784</title>\n<path fill=\"none\" stroke=\"black\" d=\"M1550.02,-72.5C1557.61,-72.5 1566.19,-72.5 1575.31,-72.5\"/>\n<polygon fill=\"black\" stroke=\"black\" points=\"1575.4,-76 1585.4,-72.5 1575.4,-69 1575.4,-76\"/>\n</g>\n<!-- 140030101720224 -->\n<g id=\"node5\" class=\"node\">\n<title>140030101720224</title>\n<polygon fill=\"none\" stroke=\"black\" points=\"377.5,-110.5 377.5,-146.5 638.5,-146.5 638.5,-110.5 377.5,-110.5\"/>\n<text text-anchor=\"middle\" x=\"405\" y=\"-124.8\" font-family=\"Times,serif\" font-size=\"14.00\">x2w2</text>\n<polyline fill=\"none\" stroke=\"black\" points=\"432.5,-110.5 432.5,-146.5 \"/>\n<text text-anchor=\"middle\" x=\"483.5\" y=\"-124.8\" font-family=\"Times,serif\" font-size=\"14.00\">data:0.0000</text>\n<polyline fill=\"none\" stroke=\"black\" points=\"534.5,-110.5 534.5,-146.5 \"/>\n<text text-anchor=\"middle\" x=\"586.5\" y=\"-124.8\" font-family=\"Times,serif\" font-size=\"14.00\">grad:0.0000</text>\n</g>\n<!-- 140030101720848+ -->\n<g id=\"node8\" class=\"node\">\n<title>140030101720848+</title>\n<ellipse fill=\"none\" stroke=\"black\" cx=\"704\" cy=\"-100.5\" rx=\"27\" ry=\"18\"/>\n<text text-anchor=\"middle\" x=\"704\" y=\"-96.8\" font-family=\"Times,serif\" font-size=\"14.00\">+</text>\n</g>\n<!-- 140030101720224&#45;&gt;140030101720848+ -->\n<g id=\"edge12\" class=\"edge\">\n<title>140030101720224&#45;&gt;140030101720848+</title>\n<path fill=\"none\" stroke=\"black\" d=\"M633.78,-110.49C645.77,-108.76 657.15,-107.12 667.08,-105.68\"/>\n<polygon fill=\"black\" stroke=\"black\" points=\"667.86,-109.11 677.25,-104.22 666.86,-102.18 667.86,-109.11\"/>\n</g>\n<!-- 140030101720224*&#45;&gt;140030101720224 -->\n<g id=\"edge2\" class=\"edge\">\n<title>140030101720224*&#45;&gt;140030101720224</title>\n<path fill=\"none\" stroke=\"black\" d=\"M339.16,-128.5C347.24,-128.5 356.75,-128.5 367.07,-128.5\"/>\n<polygon fill=\"black\" stroke=\"black\" points=\"367.2,-132 377.2,-128.5 367.2,-125 367.2,-132\"/>\n</g>\n<!-- 140030101720848 -->\n<g id=\"node7\" class=\"node\">\n<title>140030101720848</title>\n<polygon fill=\"none\" stroke=\"black\" points=\"767,-82.5 767,-118.5 1092,-118.5 1092,-82.5 767,-82.5\"/>\n<text text-anchor=\"middle\" x=\"824\" y=\"-96.8\" font-family=\"Times,serif\" font-size=\"14.00\">x1w1 + x2w2</text>\n<polyline fill=\"none\" stroke=\"black\" points=\"881,-82.5 881,-118.5 \"/>\n<text text-anchor=\"middle\" x=\"934.5\" y=\"-96.8\" font-family=\"Times,serif\" font-size=\"14.00\">data:&#45;6.0000</text>\n<polyline fill=\"none\" stroke=\"black\" points=\"988,-82.5 988,-118.5 \"/>\n<text text-anchor=\"middle\" x=\"1040\" y=\"-96.8\" font-family=\"Times,serif\" font-size=\"14.00\">grad:0.5000</text>\n</g>\n<!-- 140029825158640+ -->\n<g id=\"node15\" class=\"node\">\n<title>140029825158640+</title>\n<ellipse fill=\"none\" stroke=\"black\" cx=\"1155\" cy=\"-72.5\" rx=\"27\" ry=\"18\"/>\n<text text-anchor=\"middle\" x=\"1155\" y=\"-68.8\" font-family=\"Times,serif\" font-size=\"14.00\">+</text>\n</g>\n<!-- 140030101720848&#45;&gt;140029825158640+ -->\n<g id=\"edge10\" class=\"edge\">\n<title>140030101720848&#45;&gt;140029825158640+</title>\n<path fill=\"none\" stroke=\"black\" d=\"M1074.26,-82.49C1090.41,-80.47 1105.59,-78.56 1118.28,-76.97\"/>\n<polygon fill=\"black\" stroke=\"black\" points=\"1118.84,-80.43 1128.32,-75.72 1117.96,-73.49 1118.84,-80.43\"/>\n</g>\n<!-- 140030101720848+&#45;&gt;140030101720848 -->\n<g id=\"edge3\" class=\"edge\">\n<title>140030101720848+&#45;&gt;140030101720848</title>\n<path fill=\"none\" stroke=\"black\" d=\"M731.08,-100.5C738.51,-100.5 747.21,-100.5 756.74,-100.5\"/>\n<polygon fill=\"black\" stroke=\"black\" points=\"756.95,-104 766.95,-100.5 756.95,-97 756.95,-104\"/>\n</g>\n<!-- 140030101720368 -->\n<g id=\"node9\" class=\"node\">\n<title>140030101720368</title>\n<polygon fill=\"none\" stroke=\"black\" points=\"2.5,-110.5 2.5,-146.5 246.5,-146.5 246.5,-110.5 2.5,-110.5\"/>\n<text text-anchor=\"middle\" x=\"21.5\" y=\"-124.8\" font-family=\"Times,serif\" font-size=\"14.00\">w2</text>\n<polyline fill=\"none\" stroke=\"black\" points=\"40.5,-110.5 40.5,-146.5 \"/>\n<text text-anchor=\"middle\" x=\"91.5\" y=\"-124.8\" font-family=\"Times,serif\" font-size=\"14.00\">data:1.0000</text>\n<polyline fill=\"none\" stroke=\"black\" points=\"142.5,-110.5 142.5,-146.5 \"/>\n<text text-anchor=\"middle\" x=\"194.5\" y=\"-124.8\" font-family=\"Times,serif\" font-size=\"14.00\">grad:0.0000</text>\n</g>\n<!-- 140030101720368&#45;&gt;140030101720224* -->\n<g id=\"edge6\" class=\"edge\">\n<title>140030101720368&#45;&gt;140030101720224*</title>\n<path fill=\"none\" stroke=\"black\" d=\"M246.64,-128.5C256.7,-128.5 266.26,-128.5 274.79,-128.5\"/>\n<polygon fill=\"black\" stroke=\"black\" points=\"275,-132 285,-128.5 275,-125 275,-132\"/>\n</g>\n<!-- 140030101719408 -->\n<g id=\"node10\" class=\"node\">\n<title>140030101719408</title>\n<polygon fill=\"none\" stroke=\"black\" points=\"375,-55.5 375,-91.5 641,-91.5 641,-55.5 375,-55.5\"/>\n<text text-anchor=\"middle\" x=\"402.5\" y=\"-69.8\" font-family=\"Times,serif\" font-size=\"14.00\">x1w1</text>\n<polyline fill=\"none\" stroke=\"black\" points=\"430,-55.5 430,-91.5 \"/>\n<text text-anchor=\"middle\" x=\"483.5\" y=\"-69.8\" font-family=\"Times,serif\" font-size=\"14.00\">data:&#45;6.0000</text>\n<polyline fill=\"none\" stroke=\"black\" points=\"537,-55.5 537,-91.5 \"/>\n<text text-anchor=\"middle\" x=\"589\" y=\"-69.8\" font-family=\"Times,serif\" font-size=\"14.00\">grad:1.0000</text>\n</g>\n<!-- 140030101719408&#45;&gt;140030101720848+ -->\n<g id=\"edge14\" class=\"edge\">\n<title>140030101719408&#45;&gt;140030101720848+</title>\n<path fill=\"none\" stroke=\"black\" d=\"M638.4,-91.51C648.78,-92.95 658.6,-94.32 667.3,-95.53\"/>\n<polygon fill=\"black\" stroke=\"black\" points=\"666.94,-99.01 677.32,-96.93 667.9,-92.08 666.94,-99.01\"/>\n</g>\n<!-- 140030101719408*&#45;&gt;140030101719408 -->\n<g id=\"edge4\" class=\"edge\">\n<title>140030101719408*&#45;&gt;140030101719408</title>\n<path fill=\"none\" stroke=\"black\" d=\"M339.16,-73.5C346.61,-73.5 355.28,-73.5 364.68,-73.5\"/>\n<polygon fill=\"black\" stroke=\"black\" points=\"364.73,-77 374.73,-73.5 364.73,-70 364.73,-77\"/>\n</g>\n<!-- 140030101720944 -->\n<g id=\"node12\" class=\"node\">\n<title>140030101720944</title>\n<polygon fill=\"none\" stroke=\"black\" points=\"813.5,-27.5 813.5,-63.5 1045.5,-63.5 1045.5,-27.5 813.5,-27.5\"/>\n<text text-anchor=\"middle\" x=\"826.5\" y=\"-41.8\" font-family=\"Times,serif\" font-size=\"14.00\">b</text>\n<polyline fill=\"none\" stroke=\"black\" points=\"839.5,-27.5 839.5,-63.5 \"/>\n<text text-anchor=\"middle\" x=\"890.5\" y=\"-41.8\" font-family=\"Times,serif\" font-size=\"14.00\">data:6.8814</text>\n<polyline fill=\"none\" stroke=\"black\" points=\"941.5,-27.5 941.5,-63.5 \"/>\n<text text-anchor=\"middle\" x=\"993.5\" y=\"-41.8\" font-family=\"Times,serif\" font-size=\"14.00\">grad:0.5000</text>\n</g>\n<!-- 140030101720944&#45;&gt;140029825158640+ -->\n<g id=\"edge9\" class=\"edge\">\n<title>140030101720944&#45;&gt;140029825158640+</title>\n<path fill=\"none\" stroke=\"black\" d=\"M1045.52,-59.4C1071.82,-62.57 1097.87,-65.72 1117.85,-68.13\"/>\n<polygon fill=\"black\" stroke=\"black\" points=\"1117.65,-71.63 1128,-69.36 1118.49,-64.68 1117.65,-71.63\"/>\n</g>\n<!-- 140030101717488 -->\n<g id=\"node13\" class=\"node\">\n<title>140030101717488</title>\n<polygon fill=\"none\" stroke=\"black\" points=\"2.5,-0.5 2.5,-36.5 246.5,-36.5 246.5,-0.5 2.5,-0.5\"/>\n<text text-anchor=\"middle\" x=\"19.5\" y=\"-14.8\" font-family=\"Times,serif\" font-size=\"14.00\">x1</text>\n<polyline fill=\"none\" stroke=\"black\" points=\"36.5,-0.5 36.5,-36.5 \"/>\n<text text-anchor=\"middle\" x=\"87.5\" y=\"-14.8\" font-family=\"Times,serif\" font-size=\"14.00\">data:2.0000</text>\n<polyline fill=\"none\" stroke=\"black\" points=\"138.5,-0.5 138.5,-36.5 \"/>\n<text text-anchor=\"middle\" x=\"192.5\" y=\"-14.8\" font-family=\"Times,serif\" font-size=\"14.00\">grad:&#45;1.5000</text>\n</g>\n<!-- 140030101717488&#45;&gt;140030101719408* -->\n<g id=\"edge13\" class=\"edge\">\n<title>140030101717488&#45;&gt;140030101719408*</title>\n<path fill=\"none\" stroke=\"black\" d=\"M214.42,-36.55C226.15,-39.54 237.93,-42.87 249,-46.5 259.46,-49.93 270.57,-54.47 280.46,-58.84\"/>\n<polygon fill=\"black\" stroke=\"black\" points=\"279.31,-62.17 289.87,-63.12 282.21,-55.79 279.31,-62.17\"/>\n</g>\n<!-- 140029825158640 -->\n<g id=\"node14\" class=\"node\">\n<title>140029825158640</title>\n<polygon fill=\"none\" stroke=\"black\" points=\"1218,-54.5 1218,-90.5 1450,-90.5 1450,-54.5 1218,-54.5\"/>\n<text text-anchor=\"middle\" x=\"1231\" y=\"-68.8\" font-family=\"Times,serif\" font-size=\"14.00\">n</text>\n<polyline fill=\"none\" stroke=\"black\" points=\"1244,-54.5 1244,-90.5 \"/>\n<text text-anchor=\"middle\" x=\"1295\" y=\"-68.8\" font-family=\"Times,serif\" font-size=\"14.00\">data:0.8814</text>\n<polyline fill=\"none\" stroke=\"black\" points=\"1346,-54.5 1346,-90.5 \"/>\n<text text-anchor=\"middle\" x=\"1398\" y=\"-68.8\" font-family=\"Times,serif\" font-size=\"14.00\">grad:0.5000</text>\n</g>\n<!-- 140029825158640&#45;&gt;140029825158784tanh -->\n<g id=\"edge11\" class=\"edge\">\n<title>140029825158640&#45;&gt;140029825158784tanh</title>\n<path fill=\"none\" stroke=\"black\" d=\"M1450.17,-72.5C1459.08,-72.5 1467.66,-72.5 1475.53,-72.5\"/>\n<polygon fill=\"black\" stroke=\"black\" points=\"1475.78,-76 1485.78,-72.5 1475.78,-69 1475.78,-76\"/>\n</g>\n<!-- 140029825158640+&#45;&gt;140029825158640 -->\n<g id=\"edge5\" class=\"edge\">\n<title>140029825158640+&#45;&gt;140029825158640</title>\n<path fill=\"none\" stroke=\"black\" d=\"M1182.12,-72.5C1189.53,-72.5 1198.14,-72.5 1207.4,-72.5\"/>\n<polygon fill=\"black\" stroke=\"black\" points=\"1207.69,-76 1217.69,-72.5 1207.69,-69 1207.69,-76\"/>\n</g>\n</g>\n</svg>\n",
      "text/plain": [
       "<graphviz.graphs.Digraph at 0x7f5b4c788b80>"
      ]
     },
     "execution_count": 64,
     "metadata": {},
     "output_type": "execute_result"
    }
   ],
   "source": [
    "o.grad = 1.0\n",
    "o._backward()\n",
    "n._backward()\n",
    "b._backward()\n",
    "x1w1x2w2._backward()\n",
    "x1w1._backward()\n",
    "x2w2._backward()\n",
    "draw_dot(o)\n"
   ]
  },
  {
   "attachments": {},
   "cell_type": "markdown",
   "metadata": {},
   "source": [
    "TODO: Explore about topological sort to call _backward function automatically."
   ]
  }
 ],
 "metadata": {
  "kernelspec": {
   "display_name": "Python 3",
   "language": "python",
   "name": "python3"
  },
  "language_info": {
   "codemirror_mode": {
    "name": "ipython",
    "version": 3
   },
   "file_extension": ".py",
   "mimetype": "text/x-python",
   "name": "python",
   "nbconvert_exporter": "python",
   "pygments_lexer": "ipython3",
   "version": "3.8.10"
  },
  "orig_nbformat": 4,
  "vscode": {
   "interpreter": {
    "hash": "1a1af0ee75eeea9e2e1ee996c87e7a2b11a0bebd85af04bb136d915cefc0abce"
   }
  }
 },
 "nbformat": 4,
 "nbformat_minor": 2
}
