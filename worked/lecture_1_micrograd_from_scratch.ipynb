{
 "cells": [
  {
   "cell_type": "code",
   "execution_count": 2,
   "metadata": {},
   "outputs": [],
   "source": [
    "import math\n",
    "import numpy as np\n",
    "import matplotlib.pyplot as plt\n",
    "%matplotlib inline"
   ]
  },
  {
   "attachments": {},
   "cell_type": "markdown",
   "metadata": {},
   "source": [
    "Sample function to understand the derivatives and get intuition about the derivatives.\n",
    "This function can take a lot of x values and produce y values, this plots a parabola.\n",
    "This parabola has a derivative. Instead of using symbolic approach as we did in our school days, we have to understand what derivative tells about the function.\n",
    "Intuitively, derivative tells about sensitivity of the input to the overall function. i.e. a change in output due to a slight bump in the input value w.r.t to the input value. i.e. slope of the function at that point of input.\n"
   ]
  },
  {
   "cell_type": "code",
   "execution_count": 3,
   "metadata": {},
   "outputs": [],
   "source": [
    "def f(x):\n",
    "    return 3*x**2 - 4*x + 5"
   ]
  },
  {
   "cell_type": "code",
   "execution_count": 4,
   "metadata": {},
   "outputs": [
    {
     "data": {
      "text/plain": [
       "20.0"
      ]
     },
     "execution_count": 4,
     "metadata": {},
     "output_type": "execute_result"
    }
   ],
   "source": [
    "f(3.0)"
   ]
  },
  {
   "cell_type": "code",
   "execution_count": 5,
   "metadata": {},
   "outputs": [
    {
     "data": {
      "text/plain": [
       "[<matplotlib.lines.Line2D at 0x7f655276ea30>]"
      ]
     },
     "execution_count": 5,
     "metadata": {},
     "output_type": "execute_result"
    },
    {
     "data": {
      "image/png": "[encoded data removed]",
      "text/plain": [
       "<Figure size 432x288 with 1 Axes>"
      ]
     },
     "metadata": {
      "needs_background": "light"
     },
     "output_type": "display_data"
    }
   ],
   "source": [
    "xs = np.arange(-5, 5, 0.25)\n",
    "ys = f(xs)\n",
    "plt.plot(xs, ys)"
   ]
  },
  {
   "cell_type": "code",
   "execution_count": 21,
   "metadata": {},
   "outputs": [
    {
     "data": {
      "text/plain": [
       "2.999378523327323e-06"
      ]
     },
     "execution_count": 21,
     "metadata": {},
     "output_type": "execute_result"
    }
   ],
   "source": [
    "h = 0.000001\n",
    "x = 2/3\n",
    "(f(x+h) - f(x)) / h"
   ]
  },
  {
   "cell_type": "code",
   "execution_count": 22,
   "metadata": {},
   "outputs": [
    {
     "name": "stdout",
     "output_type": "stream",
     "text": [
      "4.0\n"
     ]
    }
   ],
   "source": [
    "# more complex example\n",
    "a = 2.0\n",
    "b = -3.0\n",
    "c = 10.0\n",
    "d = a * b + c\n",
    "print(d)"
   ]
  },
  {
   "cell_type": "code",
   "execution_count": 25,
   "metadata": {},
   "outputs": [
    {
     "name": "stdout",
     "output_type": "stream",
     "text": [
      "d1 4.0\n",
      "d2 3.999699999999999\n",
      "slope -3.000000000010772\n",
      "d1 4.0\n",
      "d2 4.0002\n",
      "slope 2.0000000000042206\n",
      "d1 4.0\n",
      "d2 4.0001\n",
      "slope 0.9999999999976694\n"
     ]
    }
   ],
   "source": [
    "h = 0.0001\n",
    "\n",
    "# inputs\n",
    "a = 2.0\n",
    "b = -3.0\n",
    "c = 10.0\n",
    "\n",
    "d1 = a * b + c\n",
    "a += h\n",
    "d2 = a * b + c\n",
    "print('d1', d1)\n",
    "print('d2', d2)\n",
    "print('slope', (d2-d1)/h)\n",
    "\n",
    "a = 2.0\n",
    "b = -3.0\n",
    "c = 10.0\n",
    "\n",
    "d1 = a * b + c\n",
    "b += h\n",
    "d2 = a * b + c\n",
    "print('d1', d1)\n",
    "print('d2', d2)\n",
    "print('slope', (d2-d1)/h)\n",
    "\n",
    "a = 2.0\n",
    "b = -3.0\n",
    "c = 10.0\n",
    "d1 = a * b + c\n",
    "c += h\n",
    "d2 = a * b + c\n",
    "print('d1', d1)\n",
    "print('d2', d2)\n",
    "print('slope', (d2-d1)/h)\n"
   ]
  },
  {
   "cell_type": "code",
   "execution_count": 63,
   "metadata": {},
   "outputs": [
    {
     "data": {
      "text/plain": [
       "Value(data=-8.0)"
      ]
     },
     "execution_count": 63,
     "metadata": {},
     "output_type": "execute_result"
    }
   ],
   "source": [
    "class Value:\n",
    "\n",
    "    def __init__(self, data, _children=(), _op=(), label='') -> None:\n",
    "        self.data = data\n",
    "        self._prev = set(_children)\n",
    "        self._op = _op\n",
    "        self.label = label\n",
    "        self.grad = 0\n",
    "\n",
    "    def __repr__(self) -> str:\n",
    "        return f\"Value(data={self.data})\"\n",
    "\n",
    "    def __add__(self, other):\n",
    "        return Value(self.data + other.data, (self, other), \"+\")\n",
    "\n",
    "    def __sub__(self, other):\n",
    "        return Value(self.data - other.data, (self, other), \"-\")\n",
    "\n",
    "    def __mul__(self, other):\n",
    "        return Value(self.data * other.data, (self, other), \"*\")\n",
    "\n",
    "    def __div__(self, other):\n",
    "        return Value(self.data / other.data, (self, other), \"/\")\n",
    "\n",
    "\n",
    "a = Value(2.0, label='a')\n",
    "b = Value(-3.0, label='b')\n",
    "c = Value(10.0, label='c')\n",
    "e = a*b\n",
    "e.label = 'e'\n",
    "d = e+c\n",
    "d.label = 'd'\n",
    "f = Value(-2.0, label='f')\n",
    "L = d * f\n",
    "L.label = 'L'\n",
    "L\n"
   ]
  },
  {
   "cell_type": "code",
   "execution_count": 55,
   "metadata": {},
   "outputs": [
    {
     "name": "stdout",
     "output_type": "stream",
     "text": [
      "{Value(data=-6.0), Value(data=10.0)}\n",
      "+\n",
      "d\n"
     ]
    }
   ],
   "source": [
    "print(d._prev)\n",
    "print(d._op)\n",
    "print(d.label)"
   ]
  },
  {
   "cell_type": "code",
   "execution_count": 72,
   "metadata": {},
   "outputs": [],
   "source": [
    "# scary code that can be used to visualize the Value => #TODO explore this later\n",
    "from graphviz import Digraph\n",
    "\n",
    "\n",
    "def trace(root):\n",
    "    # builds a set of all nodes and edges in a graph\n",
    "    nodes, edges = set(), set()\n",
    "\n",
    "    def build(v):\n",
    "        if v not in nodes:\n",
    "            nodes.add(v)\n",
    "            for child in v._prev:\n",
    "                edges.add((child, v))\n",
    "                build(child)\n",
    "    build(root)\n",
    "    return nodes, edges\n",
    "\n",
    "\n",
    "def draw_dot(root):  # sourcery skip: remove-unnecessary-cast\n",
    "    dot = Digraph(format='svg', graph_attr={\n",
    "                  'rankdir': 'LR'})  # LR = left to right\n",
    "    nodes, edges = trace(root)\n",
    "    for n in nodes:\n",
    "        uid = str(id(n))\n",
    "        # for any value in the graph, create a rectangular ('record') node for it\n",
    "        dot.node(name=uid, label=\"{%s|data:%.4f|grad:%.4f}\" % (\n",
    "            n.label, n.data, n.grad,), shape='record')\n",
    "        if n._op:\n",
    "            # if this value is a result of some operation, create an op node for it\n",
    "            dot.node(name=uid + n._op, label=n._op)\n",
    "            # and connect this node to it\n",
    "            dot.edge(uid + n._op, uid)\n",
    "    for n1, n2 in edges:\n",
    "        # connect n1 to the op node of n2\n",
    "        dot.edge(str(id(n1)), str(id(n2)) + n2._op)\n",
    "    return dot\n"
   ]
  },
  {
   "cell_type": "code",
   "execution_count": 73,
   "metadata": {},
   "outputs": [
    {
     "data": {
      "image/svg+xml": "<?xml version=\"1.0\" encoding=\"UTF-8\" standalone=\"no\"?>\n<!DOCTYPE svg PUBLIC \"-//W3C//DTD SVG 1.1//EN\"\n \"http://www.w3.org/Graphics/SVG/1.1/DTD/svg11.dtd\">\n<!-- Generated by graphviz version 2.43.0 (0)\n -->\n<!-- Title: %3 Pages: 1 -->\n<svg width=\"1332pt\" height=\"154pt\"\n viewBox=\"0.00 0.00 1332.00 154.00\" xmlns=\"http://www.w3.org/2000/svg\" xmlns:xlink=\"http://www.w3.org/1999/xlink\">\n<g id=\"graph0\" class=\"graph\" transform=\"scale(1 1) rotate(0) translate(4 150)\">\n<title>%3</title>\n<polygon fill=\"white\" stroke=\"transparent\" points=\"-4,4 -4,-150 1328,-150 1328,4 -4,4\"/>\n<!-- 140073116174848 -->\n<g id=\"node1\" class=\"node\">\n<title>140073116174848</title>\n<polygon fill=\"none\" stroke=\"black\" points=\"728,-109.5 728,-145.5 961,-145.5 961,-109.5 728,-109.5\"/>\n<text text-anchor=\"middle\" x=\"739\" y=\"-123.8\" font-family=\"Times,serif\" font-size=\"14.00\">f</text>\n<polyline fill=\"none\" stroke=\"black\" points=\"750,-109.5 750,-145.5 \"/>\n<text text-anchor=\"middle\" x=\"803.5\" y=\"-123.8\" font-family=\"Times,serif\" font-size=\"14.00\">data:&#45;2.0000</text>\n<polyline fill=\"none\" stroke=\"black\" points=\"857,-109.5 857,-145.5 \"/>\n<text text-anchor=\"middle\" x=\"909\" y=\"-123.8\" font-family=\"Times,serif\" font-size=\"14.00\">grad:0.0000</text>\n</g>\n<!-- 140073116174800* -->\n<g id=\"node10\" class=\"node\">\n<title>140073116174800*</title>\n<ellipse fill=\"none\" stroke=\"black\" cx=\"1024\" cy=\"-99.5\" rx=\"27\" ry=\"18\"/>\n<text text-anchor=\"middle\" x=\"1024\" y=\"-95.8\" font-family=\"Times,serif\" font-size=\"14.00\">*</text>\n</g>\n<!-- 140073116174848&#45;&gt;140073116174800* -->\n<g id=\"edge7\" class=\"edge\">\n<title>140073116174848&#45;&gt;140073116174800*</title>\n<path fill=\"none\" stroke=\"black\" d=\"M959.67,-109.49C969.61,-107.92 979.08,-106.43 987.53,-105.1\"/>\n<polygon fill=\"black\" stroke=\"black\" points=\"988.31,-108.52 997.64,-103.5 987.22,-101.6 988.31,-108.52\"/>\n</g>\n<!-- 140073116174416 -->\n<g id=\"node2\" class=\"node\">\n<title>140073116174416</title>\n<polygon fill=\"none\" stroke=\"black\" points=\"3,-55.5 3,-91.5 234,-91.5 234,-55.5 3,-55.5\"/>\n<text text-anchor=\"middle\" x=\"15.5\" y=\"-69.8\" font-family=\"Times,serif\" font-size=\"14.00\">a</text>\n<polyline fill=\"none\" stroke=\"black\" points=\"28,-55.5 28,-91.5 \"/>\n<text text-anchor=\"middle\" x=\"79\" y=\"-69.8\" font-family=\"Times,serif\" font-size=\"14.00\">data:2.0000</text>\n<polyline fill=\"none\" stroke=\"black\" points=\"130,-55.5 130,-91.5 \"/>\n<text text-anchor=\"middle\" x=\"182\" y=\"-69.8\" font-family=\"Times,serif\" font-size=\"14.00\">grad:0.0000</text>\n</g>\n<!-- 140073116174752* -->\n<g id=\"node8\" class=\"node\">\n<title>140073116174752*</title>\n<ellipse fill=\"none\" stroke=\"black\" cx=\"300\" cy=\"-45.5\" rx=\"27\" ry=\"18\"/>\n<text text-anchor=\"middle\" x=\"300\" y=\"-41.8\" font-family=\"Times,serif\" font-size=\"14.00\">*</text>\n</g>\n<!-- 140073116174416&#45;&gt;140073116174752* -->\n<g id=\"edge6\" class=\"edge\">\n<title>140073116174416&#45;&gt;140073116174752*</title>\n<path fill=\"none\" stroke=\"black\" d=\"M234.2,-55.61C244.76,-53.96 254.83,-52.39 263.74,-51\"/>\n<polygon fill=\"black\" stroke=\"black\" points=\"264.3,-54.46 273.64,-49.46 263.22,-47.54 264.3,-54.46\"/>\n</g>\n<!-- 140073116174464 -->\n<g id=\"node3\" class=\"node\">\n<title>140073116174464</title>\n<polygon fill=\"none\" stroke=\"black\" points=\"363,-82.5 363,-118.5 602,-118.5 602,-82.5 363,-82.5\"/>\n<text text-anchor=\"middle\" x=\"375\" y=\"-96.8\" font-family=\"Times,serif\" font-size=\"14.00\">c</text>\n<polyline fill=\"none\" stroke=\"black\" points=\"387,-82.5 387,-118.5 \"/>\n<text text-anchor=\"middle\" x=\"442.5\" y=\"-96.8\" font-family=\"Times,serif\" font-size=\"14.00\">data:10.0000</text>\n<polyline fill=\"none\" stroke=\"black\" points=\"498,-82.5 498,-118.5 \"/>\n<text text-anchor=\"middle\" x=\"550\" y=\"-96.8\" font-family=\"Times,serif\" font-size=\"14.00\">grad:0.0000</text>\n</g>\n<!-- 140073116174992+ -->\n<g id=\"node5\" class=\"node\">\n<title>140073116174992+</title>\n<ellipse fill=\"none\" stroke=\"black\" cx=\"665\" cy=\"-72.5\" rx=\"27\" ry=\"18\"/>\n<text text-anchor=\"middle\" x=\"665\" y=\"-68.8\" font-family=\"Times,serif\" font-size=\"14.00\">+</text>\n</g>\n<!-- 140073116174464&#45;&gt;140073116174992+ -->\n<g id=\"edge8\" class=\"edge\">\n<title>140073116174464&#45;&gt;140073116174992+</title>\n<path fill=\"none\" stroke=\"black\" d=\"M599.6,-82.49C609.91,-80.89 619.74,-79.37 628.46,-78.01\"/>\n<polygon fill=\"black\" stroke=\"black\" points=\"629.18,-81.44 638.52,-76.45 628.1,-74.53 629.18,-81.44\"/>\n</g>\n<!-- 140073116174992 -->\n<g id=\"node4\" class=\"node\">\n<title>140073116174992</title>\n<polygon fill=\"none\" stroke=\"black\" points=\"728.5,-54.5 728.5,-90.5 960.5,-90.5 960.5,-54.5 728.5,-54.5\"/>\n<text text-anchor=\"middle\" x=\"741.5\" y=\"-68.8\" font-family=\"Times,serif\" font-size=\"14.00\">d</text>\n<polyline fill=\"none\" stroke=\"black\" points=\"754.5,-54.5 754.5,-90.5 \"/>\n<text text-anchor=\"middle\" x=\"805.5\" y=\"-68.8\" font-family=\"Times,serif\" font-size=\"14.00\">data:4.0000</text>\n<polyline fill=\"none\" stroke=\"black\" points=\"856.5,-54.5 856.5,-90.5 \"/>\n<text text-anchor=\"middle\" x=\"908.5\" y=\"-68.8\" font-family=\"Times,serif\" font-size=\"14.00\">grad:0.0000</text>\n</g>\n<!-- 140073116174992&#45;&gt;140073116174800* -->\n<g id=\"edge5\" class=\"edge\">\n<title>140073116174992&#45;&gt;140073116174800*</title>\n<path fill=\"none\" stroke=\"black\" d=\"M960.92,-90.06C970.4,-91.5 979.44,-92.87 987.54,-94.11\"/>\n<polygon fill=\"black\" stroke=\"black\" points=\"987.19,-97.59 997.6,-95.64 988.24,-90.67 987.19,-97.59\"/>\n</g>\n<!-- 140073116174992+&#45;&gt;140073116174992 -->\n<g id=\"edge1\" class=\"edge\">\n<title>140073116174992+&#45;&gt;140073116174992</title>\n<path fill=\"none\" stroke=\"black\" d=\"M692.19,-72.5C699.78,-72.5 708.61,-72.5 718.11,-72.5\"/>\n<polygon fill=\"black\" stroke=\"black\" points=\"718.24,-76 728.24,-72.5 718.24,-69 718.24,-76\"/>\n</g>\n<!-- 140073116174608 -->\n<g id=\"node6\" class=\"node\">\n<title>140073116174608</title>\n<polygon fill=\"none\" stroke=\"black\" points=\"0,-0.5 0,-36.5 237,-36.5 237,-0.5 0,-0.5\"/>\n<text text-anchor=\"middle\" x=\"13\" y=\"-14.8\" font-family=\"Times,serif\" font-size=\"14.00\">b</text>\n<polyline fill=\"none\" stroke=\"black\" points=\"26,-0.5 26,-36.5 \"/>\n<text text-anchor=\"middle\" x=\"79.5\" y=\"-14.8\" font-family=\"Times,serif\" font-size=\"14.00\">data:&#45;3.0000</text>\n<polyline fill=\"none\" stroke=\"black\" points=\"133,-0.5 133,-36.5 \"/>\n<text text-anchor=\"middle\" x=\"185\" y=\"-14.8\" font-family=\"Times,serif\" font-size=\"14.00\">grad:0.0000</text>\n</g>\n<!-- 140073116174608&#45;&gt;140073116174752* -->\n<g id=\"edge4\" class=\"edge\">\n<title>140073116174608&#45;&gt;140073116174752*</title>\n<path fill=\"none\" stroke=\"black\" d=\"M237.23,-36.21C246.6,-37.62 255.52,-38.96 263.52,-40.16\"/>\n<polygon fill=\"black\" stroke=\"black\" points=\"263.06,-43.63 273.47,-41.66 264.1,-36.71 263.06,-43.63\"/>\n</g>\n<!-- 140073116174752 -->\n<g id=\"node7\" class=\"node\">\n<title>140073116174752</title>\n<polygon fill=\"none\" stroke=\"black\" points=\"364.5,-27.5 364.5,-63.5 600.5,-63.5 600.5,-27.5 364.5,-27.5\"/>\n<text text-anchor=\"middle\" x=\"377\" y=\"-41.8\" font-family=\"Times,serif\" font-size=\"14.00\">e</text>\n<polyline fill=\"none\" stroke=\"black\" points=\"389.5,-27.5 389.5,-63.5 \"/>\n<text text-anchor=\"middle\" x=\"443\" y=\"-41.8\" font-family=\"Times,serif\" font-size=\"14.00\">data:&#45;6.0000</text>\n<polyline fill=\"none\" stroke=\"black\" points=\"496.5,-27.5 496.5,-63.5 \"/>\n<text text-anchor=\"middle\" x=\"548.5\" y=\"-41.8\" font-family=\"Times,serif\" font-size=\"14.00\">grad:0.0000</text>\n</g>\n<!-- 140073116174752&#45;&gt;140073116174992+ -->\n<g id=\"edge9\" class=\"edge\">\n<title>140073116174752&#45;&gt;140073116174992+</title>\n<path fill=\"none\" stroke=\"black\" d=\"M600.62,-63.02C610.5,-64.5 619.9,-65.9 628.3,-67.16\"/>\n<polygon fill=\"black\" stroke=\"black\" points=\"627.95,-70.65 638.36,-68.66 628.99,-63.72 627.95,-70.65\"/>\n</g>\n<!-- 140073116174752*&#45;&gt;140073116174752 -->\n<g id=\"edge2\" class=\"edge\">\n<title>140073116174752*&#45;&gt;140073116174752</title>\n<path fill=\"none\" stroke=\"black\" d=\"M327.25,-45.5C335.09,-45.5 344.27,-45.5 354.17,-45.5\"/>\n<polygon fill=\"black\" stroke=\"black\" points=\"354.28,-49 364.28,-45.5 354.28,-42 354.28,-49\"/>\n</g>\n<!-- 140073116174800 -->\n<g id=\"node9\" class=\"node\">\n<title>140073116174800</title>\n<polygon fill=\"none\" stroke=\"black\" points=\"1087,-81.5 1087,-117.5 1324,-117.5 1324,-81.5 1087,-81.5\"/>\n<text text-anchor=\"middle\" x=\"1100\" y=\"-95.8\" font-family=\"Times,serif\" font-size=\"14.00\">L</text>\n<polyline fill=\"none\" stroke=\"black\" points=\"1113,-81.5 1113,-117.5 \"/>\n<text text-anchor=\"middle\" x=\"1166.5\" y=\"-95.8\" font-family=\"Times,serif\" font-size=\"14.00\">data:&#45;8.0000</text>\n<polyline fill=\"none\" stroke=\"black\" points=\"1220,-81.5 1220,-117.5 \"/>\n<text text-anchor=\"middle\" x=\"1272\" y=\"-95.8\" font-family=\"Times,serif\" font-size=\"14.00\">grad:0.0000</text>\n</g>\n<!-- 140073116174800*&#45;&gt;140073116174800 -->\n<g id=\"edge3\" class=\"edge\">\n<title>140073116174800*&#45;&gt;140073116174800</title>\n<path fill=\"none\" stroke=\"black\" d=\"M1051.1,-99.5C1058.61,-99.5 1067.33,-99.5 1076.75,-99.5\"/>\n<polygon fill=\"black\" stroke=\"black\" points=\"1076.78,-103 1086.78,-99.5 1076.78,-96 1076.78,-103\"/>\n</g>\n</g>\n</svg>\n",
      "text/plain": [
       "<graphviz.graphs.Digraph at 0x7f6550677d30>"
      ]
     },
     "execution_count": 73,
     "metadata": {},
     "output_type": "execute_result"
    }
   ],
   "source": [
    "draw_dot(L)"
   ]
  }
 ],
 "metadata": {
  "kernelspec": {
   "display_name": "Python 3",
   "language": "python",
   "name": "python3"
  },
  "language_info": {
   "codemirror_mode": {
    "name": "ipython",
    "version": 3
   },
   "file_extension": ".py",
   "mimetype": "text/x-python",
   "name": "python",
   "nbconvert_exporter": "python",
   "pygments_lexer": "ipython3",
   "version": "3.8.10"
  },
  "orig_nbformat": 4,
  "vscode": {
   "interpreter": {
    "hash": "1a1af0ee75eeea9e2e1ee996c87e7a2b11a0bebd85af04bb136d915cefc0abce"
   }
  }
 },
 "nbformat": 4,
 "nbformat_minor": 2
}
